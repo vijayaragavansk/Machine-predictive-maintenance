{
 "cells": [
  {
   "cell_type": "code",
   "execution_count": 1,
   "metadata": {
    "execution": {
     "iopub.execute_input": "2022-03-09T07:28:58.097696Z",
     "iopub.status.busy": "2022-03-09T07:28:58.097220Z",
     "iopub.status.idle": "2022-03-09T07:28:58.690857Z",
     "shell.execute_reply": "2022-03-09T07:28:58.689894Z",
     "shell.execute_reply.started": "2022-03-09T07:28:58.097603Z"
    }
   },
   "outputs": [],
   "source": [
    "import numpy as np\n",
    "import pandas as pd\n",
    "import matplotlib.pyplot as plt\n",
    "import seaborn as sns\n",
    "from scipy import stats\n",
    "from sklearn.metrics import log_loss\n",
    "from sklearn.metrics import classification_report\n",
    "\n",
    "from scipy import stats\n",
    "from sklearn import metrics\n",
    "from sklearn.model_selection import cross_validate\n",
    "from sklearn.linear_model import LogisticRegression\n",
    "from sklearn.naive_bayes import GaussianNB\n",
    "from sklearn.neighbors import KNeighborsClassifier\n",
    "from sklearn.svm import SVC\n",
    "from sklearn.tree import DecisionTreeClassifier\n",
    "from sklearn.ensemble import BaggingClassifier\n",
    "from sklearn.ensemble import AdaBoostClassifier\n",
    "from sklearn.ensemble import GradientBoostingClassifier\n",
    "from sklearn.ensemble import RandomForestClassifier\n",
    "from xgboost import XGBClassifier\n",
    "\n",
    "from sklearn.model_selection import GridSearchCV, RandomizedSearchCV\n",
    "\n",
    "import warnings\n",
    "warnings.filterwarnings('ignore')"
   ]
  },
  {
   "cell_type": "code",
   "execution_count": 2,
   "metadata": {
    "execution": {
     "iopub.execute_input": "2022-03-09T07:28:58.692796Z",
     "iopub.status.busy": "2022-03-09T07:28:58.692280Z",
     "iopub.status.idle": "2022-03-09T07:28:58.697665Z",
     "shell.execute_reply": "2022-03-09T07:28:58.696524Z",
     "shell.execute_reply.started": "2022-03-09T07:28:58.692750Z"
    }
   },
   "outputs": [],
   "source": [
    "RS = 42"
   ]
  },
  {
   "cell_type": "code",
   "execution_count": 3,
   "metadata": {
    "execution": {
     "iopub.execute_input": "2022-03-09T07:28:58.699434Z",
     "iopub.status.busy": "2022-03-09T07:28:58.699160Z",
     "iopub.status.idle": "2022-03-09T07:28:58.737515Z",
     "shell.execute_reply": "2022-03-09T07:28:58.736584Z",
     "shell.execute_reply.started": "2022-03-09T07:28:58.699402Z"
    }
   },
   "outputs": [],
   "source": [
    "# /kaggle/input/machine-predictive-maintenance-classification/predictive_maintenance.csv\n",
    "df_original=pd.read_csv('predictive_maintenance.csv')"
   ]
  },
  {
   "cell_type": "code",
   "execution_count": 4,
   "metadata": {
    "execution": {
     "iopub.execute_input": "2022-03-09T07:28:58.740024Z",
     "iopub.status.busy": "2022-03-09T07:28:58.739790Z",
     "iopub.status.idle": "2022-03-09T07:28:58.763404Z",
     "shell.execute_reply": "2022-03-09T07:28:58.762455Z",
     "shell.execute_reply.started": "2022-03-09T07:28:58.739995Z"
    }
   },
   "outputs": [
    {
     "data": {
      "text/html": [
       "<div>\n",
       "<style scoped>\n",
       "    .dataframe tbody tr th:only-of-type {\n",
       "        vertical-align: middle;\n",
       "    }\n",
       "\n",
       "    .dataframe tbody tr th {\n",
       "        vertical-align: top;\n",
       "    }\n",
       "\n",
       "    .dataframe thead th {\n",
       "        text-align: right;\n",
       "    }\n",
       "</style>\n",
       "<table border=\"1\" class=\"dataframe\">\n",
       "  <thead>\n",
       "    <tr style=\"text-align: right;\">\n",
       "      <th></th>\n",
       "      <th>UDI</th>\n",
       "      <th>Product ID</th>\n",
       "      <th>Type</th>\n",
       "      <th>Air temperature [K]</th>\n",
       "      <th>Process temperature [K]</th>\n",
       "      <th>Rotational speed [rpm]</th>\n",
       "      <th>Torque [Nm]</th>\n",
       "      <th>Tool wear [min]</th>\n",
       "      <th>Target</th>\n",
       "      <th>Failure Type</th>\n",
       "    </tr>\n",
       "  </thead>\n",
       "  <tbody>\n",
       "    <tr>\n",
       "      <th>0</th>\n",
       "      <td>1</td>\n",
       "      <td>M14860</td>\n",
       "      <td>M</td>\n",
       "      <td>298.1</td>\n",
       "      <td>308.6</td>\n",
       "      <td>1551</td>\n",
       "      <td>42.8</td>\n",
       "      <td>0</td>\n",
       "      <td>0</td>\n",
       "      <td>No Failure</td>\n",
       "    </tr>\n",
       "    <tr>\n",
       "      <th>1</th>\n",
       "      <td>2</td>\n",
       "      <td>L47181</td>\n",
       "      <td>L</td>\n",
       "      <td>298.2</td>\n",
       "      <td>308.7</td>\n",
       "      <td>1408</td>\n",
       "      <td>46.3</td>\n",
       "      <td>3</td>\n",
       "      <td>0</td>\n",
       "      <td>No Failure</td>\n",
       "    </tr>\n",
       "    <tr>\n",
       "      <th>2</th>\n",
       "      <td>3</td>\n",
       "      <td>L47182</td>\n",
       "      <td>L</td>\n",
       "      <td>298.1</td>\n",
       "      <td>308.5</td>\n",
       "      <td>1498</td>\n",
       "      <td>49.4</td>\n",
       "      <td>5</td>\n",
       "      <td>0</td>\n",
       "      <td>No Failure</td>\n",
       "    </tr>\n",
       "    <tr>\n",
       "      <th>3</th>\n",
       "      <td>4</td>\n",
       "      <td>L47183</td>\n",
       "      <td>L</td>\n",
       "      <td>298.2</td>\n",
       "      <td>308.6</td>\n",
       "      <td>1433</td>\n",
       "      <td>39.5</td>\n",
       "      <td>7</td>\n",
       "      <td>0</td>\n",
       "      <td>No Failure</td>\n",
       "    </tr>\n",
       "    <tr>\n",
       "      <th>4</th>\n",
       "      <td>5</td>\n",
       "      <td>L47184</td>\n",
       "      <td>L</td>\n",
       "      <td>298.2</td>\n",
       "      <td>308.7</td>\n",
       "      <td>1408</td>\n",
       "      <td>40.0</td>\n",
       "      <td>9</td>\n",
       "      <td>0</td>\n",
       "      <td>No Failure</td>\n",
       "    </tr>\n",
       "  </tbody>\n",
       "</table>\n",
       "</div>"
      ],
      "text/plain": [
       "   UDI Product ID Type  Air temperature [K]  Process temperature [K]  \\\n",
       "0    1     M14860    M                298.1                    308.6   \n",
       "1    2     L47181    L                298.2                    308.7   \n",
       "2    3     L47182    L                298.1                    308.5   \n",
       "3    4     L47183    L                298.2                    308.6   \n",
       "4    5     L47184    L                298.2                    308.7   \n",
       "\n",
       "   Rotational speed [rpm]  Torque [Nm]  Tool wear [min]  Target Failure Type  \n",
       "0                    1551         42.8                0       0   No Failure  \n",
       "1                    1408         46.3                3       0   No Failure  \n",
       "2                    1498         49.4                5       0   No Failure  \n",
       "3                    1433         39.5                7       0   No Failure  \n",
       "4                    1408         40.0                9       0   No Failure  "
      ]
     },
     "execution_count": 4,
     "metadata": {},
     "output_type": "execute_result"
    }
   ],
   "source": [
    "df_original.head()"
   ]
  },
  {
   "cell_type": "markdown",
   "metadata": {},
   "source": [
    "#### Renaming feature names for convenience"
   ]
  },
  {
   "cell_type": "code",
   "execution_count": 5,
   "metadata": {
    "execution": {
     "iopub.execute_input": "2022-03-09T07:28:58.765396Z",
     "iopub.status.busy": "2022-03-09T07:28:58.764630Z",
     "iopub.status.idle": "2022-03-09T07:28:58.771141Z",
     "shell.execute_reply": "2022-03-09T07:28:58.770344Z",
     "shell.execute_reply.started": "2022-03-09T07:28:58.765299Z"
    }
   },
   "outputs": [],
   "source": [
    "df_original.rename(columns = {'Air temperature [K]': 'Air_temperature', 'Process temperature [K]': 'Process_temperature', 'Rotational speed [rpm]': 'Rotational_speed', 'Torque [Nm]': 'Torque', 'Tool wear [min]': 'Tool_wear'}, inplace = True)"
   ]
  },
  {
   "cell_type": "code",
   "execution_count": 6,
   "metadata": {
    "execution": {
     "iopub.execute_input": "2022-03-09T07:28:58.773263Z",
     "iopub.status.busy": "2022-03-09T07:28:58.772764Z",
     "iopub.status.idle": "2022-03-09T07:28:58.787006Z",
     "shell.execute_reply": "2022-03-09T07:28:58.785889Z",
     "shell.execute_reply.started": "2022-03-09T07:28:58.773228Z"
    }
   },
   "outputs": [
    {
     "data": {
      "text/plain": [
       "(10000, 10)"
      ]
     },
     "execution_count": 6,
     "metadata": {},
     "output_type": "execute_result"
    }
   ],
   "source": [
    "df_original.shape"
   ]
  },
  {
   "cell_type": "code",
   "execution_count": 7,
   "metadata": {
    "execution": {
     "iopub.execute_input": "2022-03-09T07:28:58.788874Z",
     "iopub.status.busy": "2022-03-09T07:28:58.788187Z",
     "iopub.status.idle": "2022-03-09T07:28:58.800968Z",
     "shell.execute_reply": "2022-03-09T07:28:58.799857Z",
     "shell.execute_reply.started": "2022-03-09T07:28:58.788824Z"
    }
   },
   "outputs": [
    {
     "data": {
      "text/plain": [
       "10000"
      ]
     },
     "execution_count": 7,
     "metadata": {},
     "output_type": "execute_result"
    }
   ],
   "source": [
    "df_original['UDI'].nunique()"
   ]
  },
  {
   "cell_type": "code",
   "execution_count": 8,
   "metadata": {
    "execution": {
     "iopub.execute_input": "2022-03-09T07:28:58.802835Z",
     "iopub.status.busy": "2022-03-09T07:28:58.802403Z",
     "iopub.status.idle": "2022-03-09T07:28:58.816051Z",
     "shell.execute_reply": "2022-03-09T07:28:58.815309Z",
     "shell.execute_reply.started": "2022-03-09T07:28:58.802801Z"
    }
   },
   "outputs": [
    {
     "data": {
      "text/plain": [
       "10000"
      ]
     },
     "execution_count": 8,
     "metadata": {},
     "output_type": "execute_result"
    }
   ],
   "source": [
    "df_original['Product ID'].nunique()"
   ]
  },
  {
   "cell_type": "markdown",
   "metadata": {},
   "source": [
    "Dropping 'UDI', 'Product ID' and 'Failure Type'"
   ]
  },
  {
   "cell_type": "code",
   "execution_count": 9,
   "metadata": {
    "execution": {
     "iopub.execute_input": "2022-03-09T07:28:58.818140Z",
     "iopub.status.busy": "2022-03-09T07:28:58.817636Z",
     "iopub.status.idle": "2022-03-09T07:28:58.824498Z",
     "shell.execute_reply": "2022-03-09T07:28:58.823771Z",
     "shell.execute_reply.started": "2022-03-09T07:28:58.818078Z"
    }
   },
   "outputs": [],
   "source": [
    "df_original.drop(['UDI', 'Product ID', 'Failure Type'], axis = 1, inplace = True)"
   ]
  },
  {
   "cell_type": "markdown",
   "metadata": {},
   "source": [
    "#### Train test split"
   ]
  },
  {
   "cell_type": "code",
   "execution_count": 10,
   "metadata": {
    "execution": {
     "iopub.execute_input": "2022-03-09T07:28:58.826533Z",
     "iopub.status.busy": "2022-03-09T07:28:58.825713Z",
     "iopub.status.idle": "2022-03-09T07:28:58.848395Z",
     "shell.execute_reply": "2022-03-09T07:28:58.847214Z",
     "shell.execute_reply.started": "2022-03-09T07:28:58.826483Z"
    }
   },
   "outputs": [],
   "source": [
    "from sklearn.model_selection import train_test_split\n",
    "\n",
    "X = df_original.drop('Target', axis = 1)\n",
    "Y = df_original['Target']\n",
    "\n",
    "X_train, X_test, y_train, y_test = train_test_split(X, Y, random_state = RS, test_size = 0.05, stratify = Y)"
   ]
  },
  {
   "cell_type": "code",
   "execution_count": 11,
   "metadata": {
    "execution": {
     "iopub.execute_input": "2022-03-09T07:28:58.850487Z",
     "iopub.status.busy": "2022-03-09T07:28:58.850184Z",
     "iopub.status.idle": "2022-03-09T07:28:58.858474Z",
     "shell.execute_reply": "2022-03-09T07:28:58.857451Z",
     "shell.execute_reply.started": "2022-03-09T07:28:58.850447Z"
    }
   },
   "outputs": [
    {
     "data": {
      "text/plain": [
       "((9500, 6), (500, 6), (9500,), (500,))"
      ]
     },
     "execution_count": 11,
     "metadata": {},
     "output_type": "execute_result"
    }
   ],
   "source": [
    "X_train.shape, X_test.shape, y_train.shape, y_test.shape"
   ]
  },
  {
   "cell_type": "code",
   "execution_count": 12,
   "metadata": {
    "execution": {
     "iopub.execute_input": "2022-03-09T07:28:58.860447Z",
     "iopub.status.busy": "2022-03-09T07:28:58.859920Z",
     "iopub.status.idle": "2022-03-09T07:28:58.877035Z",
     "shell.execute_reply": "2022-03-09T07:28:58.875944Z",
     "shell.execute_reply.started": "2022-03-09T07:28:58.860407Z"
    }
   },
   "outputs": [],
   "source": [
    "df = X_train.join(y_train, how = 'inner')\n",
    "df.sort_index(axis = 0, inplace = True)"
   ]
  },
  {
   "cell_type": "markdown",
   "metadata": {},
   "source": [
    "#### Checking for duplicate entries"
   ]
  },
  {
   "cell_type": "code",
   "execution_count": 13,
   "metadata": {
    "execution": {
     "iopub.execute_input": "2022-03-09T07:28:58.883046Z",
     "iopub.status.busy": "2022-03-09T07:28:58.882508Z",
     "iopub.status.idle": "2022-03-09T07:28:58.894445Z",
     "shell.execute_reply": "2022-03-09T07:28:58.893598Z",
     "shell.execute_reply.started": "2022-03-09T07:28:58.883005Z"
    }
   },
   "outputs": [
    {
     "name": "stdout",
     "output_type": "stream",
     "text": [
      "Duplicate Entries:  (0, 7)\n"
     ]
    }
   ],
   "source": [
    "Duplicate = df[df.duplicated(keep = 'first')]\n",
    "print('Duplicate Entries: ', Duplicate.shape)"
   ]
  },
  {
   "cell_type": "markdown",
   "metadata": {},
   "source": [
    "There are no duplicate entries in the dataset."
   ]
  },
  {
   "cell_type": "markdown",
   "metadata": {},
   "source": [
    "## EXPLORATORY DATA ANALYSIS "
   ]
  },
  {
   "cell_type": "code",
   "execution_count": 14,
   "metadata": {
    "execution": {
     "iopub.execute_input": "2022-03-09T07:28:58.897398Z",
     "iopub.status.busy": "2022-03-09T07:28:58.895733Z",
     "iopub.status.idle": "2022-03-09T07:28:58.913858Z",
     "shell.execute_reply": "2022-03-09T07:28:58.913235Z",
     "shell.execute_reply.started": "2022-03-09T07:28:58.897341Z"
    }
   },
   "outputs": [
    {
     "name": "stdout",
     "output_type": "stream",
     "text": [
      "<class 'pandas.core.frame.DataFrame'>\n",
      "Int64Index: 9500 entries, 0 to 9999\n",
      "Data columns (total 7 columns):\n",
      " #   Column               Non-Null Count  Dtype  \n",
      "---  ------               --------------  -----  \n",
      " 0   Type                 9500 non-null   object \n",
      " 1   Air_temperature      9500 non-null   float64\n",
      " 2   Process_temperature  9500 non-null   float64\n",
      " 3   Rotational_speed     9500 non-null   int64  \n",
      " 4   Torque               9500 non-null   float64\n",
      " 5   Tool_wear            9500 non-null   int64  \n",
      " 6   Target               9500 non-null   int64  \n",
      "dtypes: float64(3), int64(3), object(1)\n",
      "memory usage: 593.8+ KB\n"
     ]
    }
   ],
   "source": [
    "df.info()"
   ]
  },
  {
   "cell_type": "markdown",
   "metadata": {},
   "source": [
    "There are no missing values in the dataset"
   ]
  },
  {
   "cell_type": "markdown",
   "metadata": {},
   "source": [
    "#### Discrete features"
   ]
  },
  {
   "cell_type": "code",
   "execution_count": 15,
   "metadata": {
    "execution": {
     "iopub.execute_input": "2022-03-09T07:28:58.915315Z",
     "iopub.status.busy": "2022-03-09T07:28:58.915046Z",
     "iopub.status.idle": "2022-03-09T07:28:58.924993Z",
     "shell.execute_reply": "2022-03-09T07:28:58.923929Z",
     "shell.execute_reply.started": "2022-03-09T07:28:58.915285Z"
    }
   },
   "outputs": [
    {
     "name": "stdout",
     "output_type": "stream",
     "text": [
      "Discrete variables count: 1\n"
     ]
    }
   ],
   "source": [
    "discrete_feature = [feature for feature in df.columns if len(df[feature].unique())<25 and feature not in ['Target']]\n",
    "print('Discrete variables count: {}'.format(len(discrete_feature)))"
   ]
  },
  {
   "cell_type": "code",
   "execution_count": 16,
   "metadata": {
    "execution": {
     "iopub.execute_input": "2022-03-09T07:28:58.926797Z",
     "iopub.status.busy": "2022-03-09T07:28:58.926400Z",
     "iopub.status.idle": "2022-03-09T07:28:58.933771Z",
     "shell.execute_reply": "2022-03-09T07:28:58.933069Z",
     "shell.execute_reply.started": "2022-03-09T07:28:58.926750Z"
    },
    "scrolled": true
   },
   "outputs": [
    {
     "data": {
      "text/plain": [
       "['Type']"
      ]
     },
     "execution_count": 16,
     "metadata": {},
     "output_type": "execute_result"
    }
   ],
   "source": [
    "discrete_feature"
   ]
  },
  {
   "cell_type": "code",
   "execution_count": 17,
   "metadata": {
    "execution": {
     "iopub.execute_input": "2022-03-09T07:28:58.935571Z",
     "iopub.status.busy": "2022-03-09T07:28:58.935249Z",
     "iopub.status.idle": "2022-03-09T07:28:59.143043Z",
     "shell.execute_reply": "2022-03-09T07:28:59.142066Z",
     "shell.execute_reply.started": "2022-03-09T07:28:58.935528Z"
    },
    "scrolled": true
   },
   "outputs": [
    {
     "data": {
      "image/png": "[encoded data removed]",
      "text/plain": [
       "<Figure size 720x360 with 1 Axes>"
      ]
     },
     "metadata": {
      "needs_background": "light"
     },
     "output_type": "display_data"
    }
   ],
   "source": [
    "for feature in discrete_feature:\n",
    "    plt.figure(figsize=(10,5))\n",
    "    plot=sns.countplot(df[feature])\n",
    "\n",
    "    total = len(df[feature])\n",
    "    for p in plot.patches:\n",
    "        percentage = '{:.1f}%'.format(100 * p.get_height()/total)\n",
    "        x = p.get_x() + p.get_width() / 2 - 0.05\n",
    "        y = p.get_y() + p.get_height()\n",
    "        plot.annotate(percentage, (x, y), size = 10)\n",
    "\n",
    "    plt.show() "
   ]
  },
  {
   "cell_type": "markdown",
   "metadata": {},
   "source": [
    "L, M, or H for low (50% of all products), medium (30%) and high (20%) as product quality.\n",
    "\n",
    "The dataset has 60% of low type product."
   ]
  },
  {
   "cell_type": "code",
   "execution_count": 18,
   "metadata": {
    "execution": {
     "iopub.execute_input": "2022-03-09T07:28:59.145369Z",
     "iopub.status.busy": "2022-03-09T07:28:59.144672Z",
     "iopub.status.idle": "2022-03-09T07:28:59.358011Z",
     "shell.execute_reply": "2022-03-09T07:28:59.357375Z",
     "shell.execute_reply.started": "2022-03-09T07:28:59.145329Z"
    },
    "scrolled": true
   },
   "outputs": [
    {
     "data": {
      "image/png": "[encoded data removed]",
      "text/plain": [
       "<Figure size 720x360 with 1 Axes>"
      ]
     },
     "metadata": {
      "needs_background": "light"
     },
     "output_type": "display_data"
    }
   ],
   "source": [
    "for i in discrete_feature:\n",
    "        plt.figure(figsize=(10,5))\n",
    "        sns.countplot(df[i],hue=df['Target'])\n",
    "        plt.show()"
   ]
  },
  {
   "cell_type": "markdown",
   "metadata": {},
   "source": [
    "#### Numerical features"
   ]
  },
  {
   "cell_type": "code",
   "execution_count": 19,
   "metadata": {
    "execution": {
     "iopub.execute_input": "2022-03-09T07:28:59.359375Z",
     "iopub.status.busy": "2022-03-09T07:28:59.358963Z",
     "iopub.status.idle": "2022-03-09T07:28:59.365076Z",
     "shell.execute_reply": "2022-03-09T07:28:59.364475Z",
     "shell.execute_reply.started": "2022-03-09T07:28:59.359320Z"
    }
   },
   "outputs": [
    {
     "name": "stdout",
     "output_type": "stream",
     "text": [
      "Number of numerical features:  5\n"
     ]
    }
   ],
   "source": [
    "continuous_feature = [feature for feature in df.columns if df[feature].dtypes != 'O' and feature not in discrete_feature+['Target']]\n",
    "\n",
    "print(\"Number of numerical features: \", len(continuous_feature))"
   ]
  },
  {
   "cell_type": "code",
   "execution_count": 20,
   "metadata": {
    "execution": {
     "iopub.execute_input": "2022-03-09T07:28:59.366771Z",
     "iopub.status.busy": "2022-03-09T07:28:59.366344Z",
     "iopub.status.idle": "2022-03-09T07:28:59.382162Z",
     "shell.execute_reply": "2022-03-09T07:28:59.380957Z",
     "shell.execute_reply.started": "2022-03-09T07:28:59.366737Z"
    },
    "scrolled": true
   },
   "outputs": [
    {
     "data": {
      "text/plain": [
       "['Air_temperature',\n",
       " 'Process_temperature',\n",
       " 'Rotational_speed',\n",
       " 'Torque',\n",
       " 'Tool_wear']"
      ]
     },
     "execution_count": 20,
     "metadata": {},
     "output_type": "execute_result"
    }
   ],
   "source": [
    "continuous_feature"
   ]
  },
  {
   "cell_type": "code",
   "execution_count": 21,
   "metadata": {
    "execution": {
     "iopub.execute_input": "2022-03-09T07:28:59.384149Z",
     "iopub.status.busy": "2022-03-09T07:28:59.383423Z",
     "iopub.status.idle": "2022-03-09T07:29:00.579073Z",
     "shell.execute_reply": "2022-03-09T07:29:00.578198Z",
     "shell.execute_reply.started": "2022-03-09T07:28:59.384082Z"
    },
    "scrolled": true
   },
   "outputs": [
    {
     "data": {
      "image/png": "[encoded data removed]",
      "text/plain": [
       "<Figure size 432x288 with 1 Axes>"
      ]
     },
     "metadata": {
      "needs_background": "light"
     },
     "output_type": "display_data"
    },
    {
     "data": {
      "image/png": "[encoded data removed]",
      "text/plain": [
       "<Figure size 432x288 with 1 Axes>"
      ]
     },
     "metadata": {
      "needs_background": "light"
     },
     "output_type": "display_data"
    },
    {
     "data": {
      "image/png": "[encoded data removed]",
      "text/plain": [
       "<Figure size 432x288 with 1 Axes>"
      ]
     },
     "metadata": {
      "needs_background": "light"
     },
     "output_type": "display_data"
    },
    {
     "data": {
      "image/png": "[encoded data removed]",
      "text/plain": [
       "<Figure size 432x288 with 1 Axes>"
      ]
     },
     "metadata": {
      "needs_background": "light"
     },
     "output_type": "display_data"
    },
    {
     "data": {
      "image/png": "[encoded data removed]",
      "text/plain": [
       "<Figure size 432x288 with 1 Axes>"
      ]
     },
     "metadata": {
      "needs_background": "light"
     },
     "output_type": "display_data"
    }
   ],
   "source": [
    "for feature in continuous_feature:\n",
    "    data=df.copy()\n",
    "    data[feature].hist(bins=25)\n",
    "    plt.xlabel(feature)\n",
    "    plt.ylabel(\"Count\")\n",
    "    plt.title(feature)\n",
    "    plt.show()"
   ]
  },
  {
   "cell_type": "markdown",
   "metadata": {},
   "source": [
    "Some of the features are skewed."
   ]
  },
  {
   "cell_type": "code",
   "execution_count": 22,
   "metadata": {
    "execution": {
     "iopub.execute_input": "2022-03-09T07:29:00.580773Z",
     "iopub.status.busy": "2022-03-09T07:29:00.580531Z",
     "iopub.status.idle": "2022-03-09T07:29:00.597412Z",
     "shell.execute_reply": "2022-03-09T07:29:00.596630Z",
     "shell.execute_reply.started": "2022-03-09T07:29:00.580744Z"
    },
    "scrolled": true
   },
   "outputs": [
    {
     "name": "stdout",
     "output_type": "stream",
     "text": [
      "Air_temperature\n",
      "stat = 0.98, p = 0.000000000000000000000000000000\n",
      "Not a normal distribution\n",
      "\n",
      "Process_temperature\n",
      "stat = 0.99, p = 0.000000000000000000000243515682\n",
      "Not a normal distribution\n",
      "\n",
      "Rotational_speed\n",
      "stat = 0.86, p = 0.000000000000000000000000000000\n",
      "Not a normal distribution\n",
      "\n",
      "Torque\n",
      "stat = 1.00, p = 0.539811491966247558593750000000\n",
      "Normal distribution\n",
      "\n",
      "Tool_wear\n",
      "stat = 0.96, p = 0.000000000000000000000000000000\n",
      "Not a normal distribution\n",
      "\n"
     ]
    }
   ],
   "source": [
    "from scipy.stats import shapiro\n",
    "\n",
    "for feature in continuous_feature:\n",
    "    data = df.copy()\n",
    "    DataToTest = data[feature]\n",
    "    stat, p = shapiro(DataToTest)\n",
    "    print(feature)\n",
    "    print('stat = %.2f, p = %.30f' % (stat, p))\n",
    "    \n",
    "    if p > 0.05:\n",
    "        print('Normal distribution')\n",
    "        print()\n",
    "    else:\n",
    "        print('Not a normal distribution')\n",
    "        print()"
   ]
  },
  {
   "cell_type": "markdown",
   "metadata": {},
   "source": [
    "- Except Torque all other features are not normally distributed. \n",
    "\n",
    "- Let us apply log transformation for the skewed features."
   ]
  },
  {
   "cell_type": "code",
   "execution_count": 23,
   "metadata": {
    "execution": {
     "iopub.execute_input": "2022-03-09T07:29:00.598790Z",
     "iopub.status.busy": "2022-03-09T07:29:00.598579Z",
     "iopub.status.idle": "2022-03-09T07:29:02.509219Z",
     "shell.execute_reply": "2022-03-09T07:29:02.508222Z",
     "shell.execute_reply.started": "2022-03-09T07:29:00.598764Z"
    }
   },
   "outputs": [
    {
     "data": {
      "image/png": "[encoded data removed]",
      "text/plain": [
       "<Figure size 1080x432 with 2 Axes>"
      ]
     },
     "metadata": {
      "needs_background": "light"
     },
     "output_type": "display_data"
    },
    {
     "data": {
      "image/png": "[encoded data removed]",
      "text/plain": [
       "<Figure size 1080x432 with 2 Axes>"
      ]
     },
     "metadata": {
      "needs_background": "light"
     },
     "output_type": "display_data"
    },
    {
     "data": {
      "image/png": "[encoded data removed]",
      "text/plain": [
       "<Figure size 1080x432 with 2 Axes>"
      ]
     },
     "metadata": {
      "needs_background": "light"
     },
     "output_type": "display_data"
    },
    {
     "data": {
      "image/png": "[encoded data removed]",
      "text/plain": [
       "<Figure size 1080x432 with 2 Axes>"
      ]
     },
     "metadata": {
      "needs_background": "light"
     },
     "output_type": "display_data"
    },
    {
     "data": {
      "image/png": "[encoded data removed]",
      "text/plain": [
       "<Figure size 1080x432 with 2 Axes>"
      ]
     },
     "metadata": {
      "needs_background": "light"
     },
     "output_type": "display_data"
    }
   ],
   "source": [
    "for i in continuous_feature:\n",
    "    f,axes=plt.subplots(1,2,figsize=(15,6))\n",
    "    sns.boxplot(x='Target', y=i, data= df, ax=axes[0])\n",
    "    df.groupby(by=['Target'])[i].mean().reset_index().sort_values(i,ascending=True).plot(x='Target',y=i,kind='bar',ax=axes[1])"
   ]
  },
  {
   "cell_type": "markdown",
   "metadata": {},
   "source": [
    "#### Checking for outliers"
   ]
  },
  {
   "cell_type": "code",
   "execution_count": 24,
   "metadata": {
    "execution": {
     "iopub.execute_input": "2022-03-09T07:29:02.510855Z",
     "iopub.status.busy": "2022-03-09T07:29:02.510587Z",
     "iopub.status.idle": "2022-03-09T07:29:03.442987Z",
     "shell.execute_reply": "2022-03-09T07:29:03.441855Z",
     "shell.execute_reply.started": "2022-03-09T07:29:02.510814Z"
    }
   },
   "outputs": [
    {
     "data": {
      "image/png": "[encoded data removed]",
      "text/plain": [
       "<Figure size 432x288 with 1 Axes>"
      ]
     },
     "metadata": {
      "needs_background": "light"
     },
     "output_type": "display_data"
    },
    {
     "data": {
      "image/png": "[encoded data removed]",
      "text/plain": [
       "<Figure size 432x288 with 1 Axes>"
      ]
     },
     "metadata": {
      "needs_background": "light"
     },
     "output_type": "display_data"
    },
    {
     "data": {
      "image/png": "[encoded data removed]",
      "text/plain": [
       "<Figure size 432x288 with 1 Axes>"
      ]
     },
     "metadata": {
      "needs_background": "light"
     },
     "output_type": "display_data"
    },
    {
     "data": {
      "image/png": "[encoded data removed]",
      "text/plain": [
       "<Figure size 432x288 with 1 Axes>"
      ]
     },
     "metadata": {
      "needs_background": "light"
     },
     "output_type": "display_data"
    },
    {
     "data": {
      "image/png": "[encoded data removed]",
      "text/plain": [
       "<Figure size 432x288 with 1 Axes>"
      ]
     },
     "metadata": {
      "needs_background": "light"
     },
     "output_type": "display_data"
    }
   ],
   "source": [
    "for feature in continuous_feature:\n",
    "    \n",
    "    data = df.copy()\n",
    "    data.boxplot(column=feature)\n",
    "    plt.ylabel(feature)\n",
    "    plt.title(feature)\n",
    "    plt.show()"
   ]
  },
  {
   "cell_type": "markdown",
   "metadata": {},
   "source": [
    "- Rotational_speed and Torque have outliers in them.\n",
    "\n",
    "- We will be using machine learning models that are robust to outliers"
   ]
  },
  {
   "cell_type": "code",
   "execution_count": 25,
   "metadata": {
    "execution": {
     "iopub.execute_input": "2022-03-09T07:29:03.444895Z",
     "iopub.status.busy": "2022-03-09T07:29:03.444559Z",
     "iopub.status.idle": "2022-03-09T07:29:03.818134Z",
     "shell.execute_reply": "2022-03-09T07:29:03.817226Z",
     "shell.execute_reply.started": "2022-03-09T07:29:03.444848Z"
    }
   },
   "outputs": [
    {
     "data": {
      "image/png": "[encoded data removed]",
      "text/plain": [
       "<Figure size 864x720 with 2 Axes>"
      ]
     },
     "metadata": {
      "needs_background": "light"
     },
     "output_type": "display_data"
    }
   ],
   "source": [
    "corr = df.corr()\n",
    "f, ax = plt.subplots(figsize=(12, 10))\n",
    "mask = np.triu(np.ones_like(corr, dtype=bool))[1:, :-1]\n",
    "corr = corr.iloc[1:,:-1].copy()\n",
    "cmap = sns.diverging_palette(230, 20, as_cmap=True)\n",
    "sns.heatmap(corr, annot=True, mask = mask, cmap=cmap)\n",
    "plt.yticks(rotation=0)\n",
    "plt.show()"
   ]
  },
  {
   "cell_type": "markdown",
   "metadata": {},
   "source": [
    "***OBSERVATIONS***\n",
    "- Process_temperature and Air_temperature are highly positively correlated\n",
    "- Torque and Rotational_speed are highly negatively correlated.\n",
    "\n",
    "In Feature Selection we will check whether these features are really required for predicting the Target."
   ]
  },
  {
   "cell_type": "markdown",
   "metadata": {},
   "source": [
    "## FEATURE ENGINEERING"
   ]
  },
  {
   "cell_type": "code",
   "execution_count": 26,
   "metadata": {
    "execution": {
     "iopub.execute_input": "2022-03-09T07:29:03.819727Z",
     "iopub.status.busy": "2022-03-09T07:29:03.819501Z",
     "iopub.status.idle": "2022-03-09T07:29:03.838559Z",
     "shell.execute_reply": "2022-03-09T07:29:03.837190Z",
     "shell.execute_reply.started": "2022-03-09T07:29:03.819700Z"
    }
   },
   "outputs": [],
   "source": [
    "X_train_final, X_validation, y_train_final, y_validation = train_test_split(X_train, y_train,  random_state = RS, test_size = 0.20, stratify = y_train)\n",
    "# X_train_final.sort_index(axis = 0, inplace = True)\n",
    "# X_validation.sort_index(axis = 0, inplace = True)\n",
    "# y_train_final.sort_index(axis = 0, inplace = True)\n",
    "# y_validation.sort_index(axis = 0, inplace = True)"
   ]
  },
  {
   "cell_type": "code",
   "execution_count": 27,
   "metadata": {
    "execution": {
     "iopub.execute_input": "2022-03-09T07:29:03.841105Z",
     "iopub.status.busy": "2022-03-09T07:29:03.840511Z",
     "iopub.status.idle": "2022-03-09T07:29:03.849702Z",
     "shell.execute_reply": "2022-03-09T07:29:03.848731Z",
     "shell.execute_reply.started": "2022-03-09T07:29:03.841048Z"
    }
   },
   "outputs": [],
   "source": [
    "X_train_final_1 = X_train_final.copy()\n",
    "X_validation_1 = X_validation.copy()\n",
    "y_train_final_1 = y_train_final.copy()\n",
    "y_validation_1 = y_validation.copy()"
   ]
  },
  {
   "cell_type": "code",
   "execution_count": 28,
   "metadata": {
    "execution": {
     "iopub.execute_input": "2022-03-09T07:29:03.852388Z",
     "iopub.status.busy": "2022-03-09T07:29:03.851202Z",
     "iopub.status.idle": "2022-03-09T07:29:03.868512Z",
     "shell.execute_reply": "2022-03-09T07:29:03.867690Z",
     "shell.execute_reply.started": "2022-03-09T07:29:03.852332Z"
    }
   },
   "outputs": [],
   "source": [
    "from sklearn.preprocessing import OrdinalEncoder\n",
    "\n",
    "ord = ['L', 'M', 'H']\n",
    "ordinal_encoder = OrdinalEncoder(categories = [ord])\n",
    "X_train_final_1['Type'] = ordinal_encoder.fit_transform(X_train_final_1[['Type']])\n",
    "X_validation_1['Type'] = ordinal_encoder.transform(X_validation_1[['Type']])"
   ]
  },
  {
   "cell_type": "code",
   "execution_count": 29,
   "metadata": {
    "execution": {
     "iopub.execute_input": "2022-03-09T07:29:03.870962Z",
     "iopub.status.busy": "2022-03-09T07:29:03.869965Z",
     "iopub.status.idle": "2022-03-09T07:29:03.888744Z",
     "shell.execute_reply": "2022-03-09T07:29:03.887866Z",
     "shell.execute_reply.started": "2022-03-09T07:29:03.870899Z"
    }
   },
   "outputs": [
    {
     "data": {
      "text/plain": [
       "[array(['L', 'M', 'H'], dtype=object)]"
      ]
     },
     "execution_count": 29,
     "metadata": {},
     "output_type": "execute_result"
    }
   ],
   "source": [
    "ordinal_encoder.categories_"
   ]
  },
  {
   "cell_type": "markdown",
   "metadata": {},
   "source": [
    "#### Applying Log Transformations"
   ]
  },
  {
   "cell_type": "code",
   "execution_count": 30,
   "metadata": {
    "execution": {
     "iopub.execute_input": "2022-03-09T07:29:03.890795Z",
     "iopub.status.busy": "2022-03-09T07:29:03.890463Z",
     "iopub.status.idle": "2022-03-09T07:29:03.906558Z",
     "shell.execute_reply": "2022-03-09T07:29:03.905772Z",
     "shell.execute_reply.started": "2022-03-09T07:29:03.890761Z"
    },
    "scrolled": true
   },
   "outputs": [],
   "source": [
    "from sklearn.preprocessing import FunctionTransformer\n",
    "\n",
    "to_transform = ['Air_temperature', 'Process_temperature', 'Rotational_speed', 'Tool_wear']\n",
    "\n",
    "transformer = FunctionTransformer(np.log1p)\n",
    "X_train_final_1[to_transform] = transformer.fit_transform(X_train_final_1[to_transform])\n",
    "X_validation_1[to_transform] = transformer.transform(X_validation_1[to_transform])"
   ]
  },
  {
   "cell_type": "markdown",
   "metadata": {},
   "source": [
    "#### Scaling the dataset"
   ]
  },
  {
   "cell_type": "code",
   "execution_count": 31,
   "metadata": {
    "execution": {
     "iopub.execute_input": "2022-03-09T07:29:03.911325Z",
     "iopub.status.busy": "2022-03-09T07:29:03.909901Z",
     "iopub.status.idle": "2022-03-09T07:29:03.928814Z",
     "shell.execute_reply": "2022-03-09T07:29:03.927881Z",
     "shell.execute_reply.started": "2022-03-09T07:29:03.911269Z"
    }
   },
   "outputs": [],
   "source": [
    "from sklearn.preprocessing import StandardScaler\n",
    "\n",
    "to_scale = ['Air_temperature', 'Process_temperature', 'Rotational_speed', 'Torque', 'Tool_wear']\n",
    "\n",
    "scaler = StandardScaler()\n",
    "X_train_final_1[to_scale] = scaler.fit_transform(X_train_final_1[to_scale])\n",
    "X_validation_1[to_scale] = scaler.transform(X_validation_1[to_scale])"
   ]
  },
  {
   "cell_type": "code",
   "execution_count": 32,
   "metadata": {
    "execution": {
     "iopub.execute_input": "2022-03-09T07:29:03.933404Z",
     "iopub.status.busy": "2022-03-09T07:29:03.932842Z",
     "iopub.status.idle": "2022-03-09T07:29:03.953238Z",
     "shell.execute_reply": "2022-03-09T07:29:03.952201Z",
     "shell.execute_reply.started": "2022-03-09T07:29:03.933349Z"
    },
    "scrolled": false
   },
   "outputs": [
    {
     "data": {
      "text/html": [
       "<div>\n",
       "<style scoped>\n",
       "    .dataframe tbody tr th:only-of-type {\n",
       "        vertical-align: middle;\n",
       "    }\n",
       "\n",
       "    .dataframe tbody tr th {\n",
       "        vertical-align: top;\n",
       "    }\n",
       "\n",
       "    .dataframe thead th {\n",
       "        text-align: right;\n",
       "    }\n",
       "</style>\n",
       "<table border=\"1\" class=\"dataframe\">\n",
       "  <thead>\n",
       "    <tr style=\"text-align: right;\">\n",
       "      <th></th>\n",
       "      <th>Type</th>\n",
       "      <th>Air_temperature</th>\n",
       "      <th>Process_temperature</th>\n",
       "      <th>Rotational_speed</th>\n",
       "      <th>Torque</th>\n",
       "      <th>Tool_wear</th>\n",
       "    </tr>\n",
       "  </thead>\n",
       "  <tbody>\n",
       "    <tr>\n",
       "      <th>1147</th>\n",
       "      <td>1.0</td>\n",
       "      <td>-1.462450</td>\n",
       "      <td>-1.361179</td>\n",
       "      <td>0.935560</td>\n",
       "      <td>-1.451484</td>\n",
       "      <td>0.696741</td>\n",
       "    </tr>\n",
       "    <tr>\n",
       "      <th>8831</th>\n",
       "      <td>2.0</td>\n",
       "      <td>-1.310989</td>\n",
       "      <td>-0.885450</td>\n",
       "      <td>1.131691</td>\n",
       "      <td>-1.330773</td>\n",
       "      <td>0.690436</td>\n",
       "    </tr>\n",
       "    <tr>\n",
       "      <th>5936</th>\n",
       "      <td>1.0</td>\n",
       "      <td>0.245252</td>\n",
       "      <td>0.265429</td>\n",
       "      <td>0.118935</td>\n",
       "      <td>-0.274550</td>\n",
       "      <td>-0.193807</td>\n",
       "    </tr>\n",
       "    <tr>\n",
       "      <th>7866</th>\n",
       "      <td>0.0</td>\n",
       "      <td>0.245252</td>\n",
       "      <td>1.275705</td>\n",
       "      <td>-0.612284</td>\n",
       "      <td>0.942621</td>\n",
       "      <td>-0.749010</td>\n",
       "    </tr>\n",
       "    <tr>\n",
       "      <th>6480</th>\n",
       "      <td>0.0</td>\n",
       "      <td>0.345104</td>\n",
       "      <td>-0.072411</td>\n",
       "      <td>1.392178</td>\n",
       "      <td>-1.350892</td>\n",
       "      <td>0.631836</td>\n",
       "    </tr>\n",
       "  </tbody>\n",
       "</table>\n",
       "</div>"
      ],
      "text/plain": [
       "      Type  Air_temperature  Process_temperature  Rotational_speed    Torque  \\\n",
       "1147   1.0        -1.462450            -1.361179          0.935560 -1.451484   \n",
       "8831   2.0        -1.310989            -0.885450          1.131691 -1.330773   \n",
       "5936   1.0         0.245252             0.265429          0.118935 -0.274550   \n",
       "7866   0.0         0.245252             1.275705         -0.612284  0.942621   \n",
       "6480   0.0         0.345104            -0.072411          1.392178 -1.350892   \n",
       "\n",
       "      Tool_wear  \n",
       "1147   0.696741  \n",
       "8831   0.690436  \n",
       "5936  -0.193807  \n",
       "7866  -0.749010  \n",
       "6480   0.631836  "
      ]
     },
     "execution_count": 32,
     "metadata": {},
     "output_type": "execute_result"
    }
   ],
   "source": [
    "X_train_final_1.head()"
   ]
  },
  {
   "cell_type": "markdown",
   "metadata": {},
   "source": [
    "## FEATURE SELECTION"
   ]
  },
  {
   "cell_type": "markdown",
   "metadata": {},
   "source": [
    "***Checking for constant, quasi constant features***"
   ]
  },
  {
   "cell_type": "code",
   "execution_count": 33,
   "metadata": {
    "execution": {
     "iopub.execute_input": "2022-03-09T07:29:03.957284Z",
     "iopub.status.busy": "2022-03-09T07:29:03.956903Z",
     "iopub.status.idle": "2022-03-09T07:29:04.013618Z",
     "shell.execute_reply": "2022-03-09T07:29:04.012970Z",
     "shell.execute_reply.started": "2022-03-09T07:29:03.957243Z"
    }
   },
   "outputs": [
    {
     "data": {
      "text/plain": [
       "VarianceThreshold(threshold=0.01)"
      ]
     },
     "execution_count": 33,
     "metadata": {},
     "output_type": "execute_result"
    }
   ],
   "source": [
    "from sklearn.feature_selection import VarianceThreshold\n",
    "\n",
    "constant_filter = VarianceThreshold(threshold = 0.01)\n",
    "constant_filter.fit(X_train_final_1)"
   ]
  },
  {
   "cell_type": "code",
   "execution_count": 34,
   "metadata": {
    "execution": {
     "iopub.execute_input": "2022-03-09T07:29:04.016054Z",
     "iopub.status.busy": "2022-03-09T07:29:04.015412Z",
     "iopub.status.idle": "2022-03-09T07:29:04.023414Z",
     "shell.execute_reply": "2022-03-09T07:29:04.022404Z",
     "shell.execute_reply.started": "2022-03-09T07:29:04.016008Z"
    }
   },
   "outputs": [
    {
     "data": {
      "text/plain": [
       "6"
      ]
     },
     "execution_count": 34,
     "metadata": {},
     "output_type": "execute_result"
    }
   ],
   "source": [
    "constant_filter.get_support().sum()"
   ]
  },
  {
   "cell_type": "markdown",
   "metadata": {},
   "source": [
    "There are no constant and quasi constant features in the dataset."
   ]
  },
  {
   "cell_type": "markdown",
   "metadata": {},
   "source": [
    "***Checking for duplicate features***"
   ]
  },
  {
   "cell_type": "code",
   "execution_count": 35,
   "metadata": {
    "execution": {
     "iopub.execute_input": "2022-03-09T07:29:04.025871Z",
     "iopub.status.busy": "2022-03-09T07:29:04.024772Z",
     "iopub.status.idle": "2022-03-09T07:29:05.317980Z",
     "shell.execute_reply": "2022-03-09T07:29:05.317095Z",
     "shell.execute_reply.started": "2022-03-09T07:29:04.025818Z"
    }
   },
   "outputs": [
    {
     "data": {
      "text/plain": [
       "0"
      ]
     },
     "execution_count": 35,
     "metadata": {},
     "output_type": "execute_result"
    }
   ],
   "source": [
    "X_train_T = X_train_final_1.T\n",
    "X_train_T.duplicated().sum()"
   ]
  },
  {
   "cell_type": "markdown",
   "metadata": {},
   "source": [
    "There are no duplicate features in the dataset"
   ]
  },
  {
   "cell_type": "markdown",
   "metadata": {},
   "source": [
    "***Checking for multicollinearity***"
   ]
  },
  {
   "cell_type": "code",
   "execution_count": 36,
   "metadata": {
    "execution": {
     "iopub.execute_input": "2022-03-09T07:29:05.320492Z",
     "iopub.status.busy": "2022-03-09T07:29:05.319804Z",
     "iopub.status.idle": "2022-03-09T07:29:05.640847Z",
     "shell.execute_reply": "2022-03-09T07:29:05.640006Z",
     "shell.execute_reply.started": "2022-03-09T07:29:05.320444Z"
    }
   },
   "outputs": [
    {
     "data": {
      "text/plain": [
       "<BarContainer object of 7 artists>"
      ]
     },
     "execution_count": 36,
     "metadata": {},
     "output_type": "execute_result"
    },
    {
     "data": {
      "image/png": "[encoded data removed]",
      "text/plain": [
       "<Figure size 1440x720 with 1 Axes>"
      ]
     },
     "metadata": {
      "needs_background": "light"
     },
     "output_type": "display_data"
    }
   ],
   "source": [
    "df = X_train_final_1.copy()\n",
    "vif = pd.Series(np.linalg.inv(df.corr().values).diagonal(),index=df.columns,\n",
    "          name='VIF').abs().sort_values(ascending=False).round(2)\n",
    "df = pd.cut(vif.round(1),[0,1,5,10,20,30,40,float('inf')]).value_counts().sort_index()\n",
    "df.index = df.index.map(str)\n",
    "\n",
    "plt.subplots(figsize=(20, 10))\n",
    "plt.bar(x=df.index, height=df)"
   ]
  },
  {
   "cell_type": "markdown",
   "metadata": {},
   "source": [
    "- Generally VIF > 10 is considered as high, None of the features have VIF value greater than 10."
   ]
  },
  {
   "cell_type": "markdown",
   "metadata": {},
   "source": [
    "***Feature selection by Recursive Feature Elimination***"
   ]
  },
  {
   "cell_type": "code",
   "execution_count": 37,
   "metadata": {
    "execution": {
     "iopub.execute_input": "2022-03-09T07:29:05.642457Z",
     "iopub.status.busy": "2022-03-09T07:29:05.642221Z",
     "iopub.status.idle": "2022-03-09T07:29:28.476295Z",
     "shell.execute_reply": "2022-03-09T07:29:28.475166Z",
     "shell.execute_reply.started": "2022-03-09T07:29:05.642430Z"
    }
   },
   "outputs": [
    {
     "data": {
      "text/plain": [
       "array([False,  True,  True,  True,  True,  True])"
      ]
     },
     "execution_count": 37,
     "metadata": {},
     "output_type": "execute_result"
    }
   ],
   "source": [
    "from sklearn.model_selection import StratifiedKFold\n",
    "from sklearn.feature_selection import RFECV\n",
    "\n",
    "skf = StratifiedKFold(n_splits=5, random_state = RS, shuffle=True)\n",
    "sel = RFECV(RandomForestClassifier(n_estimators = 100, random_state = RS, n_jobs = -1), cv = skf)\n",
    "sel.fit(X_train_final_1, y_train_final_1)\n",
    "sel.get_support()"
   ]
  },
  {
   "cell_type": "code",
   "execution_count": 38,
   "metadata": {
    "execution": {
     "iopub.execute_input": "2022-03-09T07:29:28.477776Z",
     "iopub.status.busy": "2022-03-09T07:29:28.477542Z",
     "iopub.status.idle": "2022-03-09T07:29:28.485194Z",
     "shell.execute_reply": "2022-03-09T07:29:28.484304Z",
     "shell.execute_reply.started": "2022-03-09T07:29:28.477750Z"
    }
   },
   "outputs": [
    {
     "data": {
      "text/plain": [
       "Index(['Air_temperature', 'Process_temperature', 'Rotational_speed', 'Torque',\n",
       "       'Tool_wear'],\n",
       "      dtype='object')"
      ]
     },
     "execution_count": 38,
     "metadata": {},
     "output_type": "execute_result"
    }
   ],
   "source": [
    "features = X_train_final_1.columns[sel.get_support()]\n",
    "features"
   ]
  },
  {
   "cell_type": "code",
   "execution_count": 39,
   "metadata": {
    "execution": {
     "iopub.execute_input": "2022-03-09T07:29:28.486674Z",
     "iopub.status.busy": "2022-03-09T07:29:28.486447Z",
     "iopub.status.idle": "2022-03-09T07:29:28.505572Z",
     "shell.execute_reply": "2022-03-09T07:29:28.504439Z",
     "shell.execute_reply.started": "2022-03-09T07:29:28.486648Z"
    }
   },
   "outputs": [
    {
     "data": {
      "text/plain": [
       "((7600, 5), (7600,))"
      ]
     },
     "execution_count": 39,
     "metadata": {},
     "output_type": "execute_result"
    }
   ],
   "source": [
    "X_train_sel = pd.DataFrame(sel.transform(X_train_final_1), columns = features)\n",
    "X_train_sel.shape, y_train_final_1.shape"
   ]
  },
  {
   "cell_type": "markdown",
   "metadata": {},
   "source": [
    "### SMOTE"
   ]
  },
  {
   "cell_type": "code",
   "execution_count": 40,
   "metadata": {
    "execution": {
     "iopub.execute_input": "2022-03-09T07:29:28.512747Z",
     "iopub.status.busy": "2022-03-09T07:29:28.512476Z",
     "iopub.status.idle": "2022-03-09T07:29:28.521018Z",
     "shell.execute_reply": "2022-03-09T07:29:28.520096Z",
     "shell.execute_reply.started": "2022-03-09T07:29:28.512717Z"
    }
   },
   "outputs": [
    {
     "data": {
      "text/plain": [
       "0    7342\n",
       "1     258\n",
       "Name: Target, dtype: int64"
      ]
     },
     "execution_count": 40,
     "metadata": {},
     "output_type": "execute_result"
    }
   ],
   "source": [
    "y_train_final_1.value_counts()"
   ]
  },
  {
   "cell_type": "code",
   "execution_count": 41,
   "metadata": {
    "execution": {
     "iopub.execute_input": "2022-03-09T07:29:28.522399Z",
     "iopub.status.busy": "2022-03-09T07:29:28.522179Z",
     "iopub.status.idle": "2022-03-09T07:29:28.577918Z",
     "shell.execute_reply": "2022-03-09T07:29:28.577089Z",
     "shell.execute_reply.started": "2022-03-09T07:29:28.522373Z"
    }
   },
   "outputs": [],
   "source": [
    "from imblearn.over_sampling import SMOTE\n",
    "oversample = SMOTE(random_state = RS)\n",
    "X_train_upsampled, y_train_upsampled = oversample.fit_resample(X_train_sel, y_train_final_1)"
   ]
  },
  {
   "cell_type": "code",
   "execution_count": 42,
   "metadata": {
    "execution": {
     "iopub.execute_input": "2022-03-09T07:29:28.579470Z",
     "iopub.status.busy": "2022-03-09T07:29:28.579143Z",
     "iopub.status.idle": "2022-03-09T07:29:28.587012Z",
     "shell.execute_reply": "2022-03-09T07:29:28.586184Z",
     "shell.execute_reply.started": "2022-03-09T07:29:28.579433Z"
    }
   },
   "outputs": [
    {
     "data": {
      "text/plain": [
       "0    7342\n",
       "1    7342\n",
       "Name: Target, dtype: int64"
      ]
     },
     "execution_count": 42,
     "metadata": {},
     "output_type": "execute_result"
    }
   ],
   "source": [
    "y_train_upsampled.value_counts()"
   ]
  },
  {
   "cell_type": "code",
   "execution_count": 43,
   "metadata": {
    "execution": {
     "iopub.execute_input": "2022-03-09T07:29:28.589215Z",
     "iopub.status.busy": "2022-03-09T07:29:28.588882Z",
     "iopub.status.idle": "2022-03-09T07:29:28.600915Z",
     "shell.execute_reply": "2022-03-09T07:29:28.600311Z",
     "shell.execute_reply.started": "2022-03-09T07:29:28.589173Z"
    }
   },
   "outputs": [
    {
     "data": {
      "text/plain": [
       "((14684, 5), (14684,))"
      ]
     },
     "execution_count": 43,
     "metadata": {},
     "output_type": "execute_result"
    }
   ],
   "source": [
    "X_train_upsampled.shape, y_train_upsampled.shape"
   ]
  },
  {
   "cell_type": "code",
   "execution_count": 44,
   "metadata": {
    "execution": {
     "iopub.execute_input": "2022-03-09T07:29:28.602937Z",
     "iopub.status.busy": "2022-03-09T07:29:28.602632Z",
     "iopub.status.idle": "2022-03-09T07:29:28.615737Z",
     "shell.execute_reply": "2022-03-09T07:29:28.614509Z",
     "shell.execute_reply.started": "2022-03-09T07:29:28.602882Z"
    }
   },
   "outputs": [
    {
     "data": {
      "text/plain": [
       "((1900, 5), (1900,))"
      ]
     },
     "execution_count": 44,
     "metadata": {},
     "output_type": "execute_result"
    }
   ],
   "source": [
    "X_validation_sel = pd.DataFrame(sel.transform(X_validation_1), columns = features)\n",
    "X_validation_sel.shape, y_validation_1.shape"
   ]
  },
  {
   "cell_type": "markdown",
   "metadata": {},
   "source": [
    "## MODEL BUILDING"
   ]
  },
  {
   "cell_type": "code",
   "execution_count": 45,
   "metadata": {
    "execution": {
     "iopub.execute_input": "2022-03-09T07:29:28.618200Z",
     "iopub.status.busy": "2022-03-09T07:29:28.617315Z",
     "iopub.status.idle": "2022-03-09T07:29:28.626922Z",
     "shell.execute_reply": "2022-03-09T07:29:28.626300Z",
     "shell.execute_reply.started": "2022-03-09T07:29:28.618159Z"
    }
   },
   "outputs": [],
   "source": [
    "from sklearn import metrics\n",
    "\n",
    "scorer = {\n",
    "    'accuracy' : metrics.make_scorer(metrics.accuracy_score),\n",
    "    'precision' : metrics.make_scorer(metrics.precision_score),\n",
    "    'recall' : metrics.make_scorer(metrics.recall_score),\n",
    "    'f1' : metrics.make_scorer(metrics.f1_score),\n",
    "    'loss' : metrics.make_scorer(metrics.log_loss)\n",
    "}"
   ]
  },
  {
   "cell_type": "code",
   "execution_count": 46,
   "metadata": {
    "execution": {
     "iopub.execute_input": "2022-03-09T07:29:28.628953Z",
     "iopub.status.busy": "2022-03-09T07:29:28.628436Z",
     "iopub.status.idle": "2022-03-09T07:29:28.639331Z",
     "shell.execute_reply": "2022-03-09T07:29:28.638486Z",
     "shell.execute_reply.started": "2022-03-09T07:29:28.628904Z"
    }
   },
   "outputs": [],
   "source": [
    "import time"
   ]
  },
  {
   "cell_type": "code",
   "execution_count": 47,
   "metadata": {
    "execution": {
     "iopub.execute_input": "2022-03-09T07:29:28.640968Z",
     "iopub.status.busy": "2022-03-09T07:29:28.640397Z",
     "iopub.status.idle": "2022-03-09T07:29:28.653420Z",
     "shell.execute_reply": "2022-03-09T07:29:28.652427Z",
     "shell.execute_reply.started": "2022-03-09T07:29:28.640915Z"
    }
   },
   "outputs": [],
   "source": [
    "def fit_models(model, X_train, X_test, y_train, y_test):\n",
    "    \n",
    "    start = time.time()\n",
    "    \n",
    "    model.fit(X_train, y_train)\n",
    "    pred = model.predict(X_test)\n",
    "    \n",
    "    accuracy = metrics.accuracy_score(y_test,pred)  \n",
    "    precision = metrics.precision_score(y_test,pred)   \n",
    "    recall = metrics.recall_score(y_test,pred)  \n",
    "    f1 = metrics.f1_score(y_test,pred)\n",
    "    loss = metrics.log_loss(y_test,pred)\n",
    "    \n",
    "    scorer = {\n",
    "    'accuracy' : metrics.make_scorer(metrics.accuracy_score),\n",
    "    'precision' : metrics.make_scorer(metrics.precision_score),\n",
    "    'recall' : metrics.make_scorer(metrics.recall_score),\n",
    "    'f1' : metrics.make_scorer(metrics.f1_score),\n",
    "    'loss' : metrics.make_scorer(metrics.log_loss)\n",
    "    }\n",
    "\n",
    "    cv = cross_validate(estimator = model, X = X_train, y = y_train, cv=10, scoring = scorer)\n",
    "    \n",
    "    accuracy_cv = cv['test_accuracy'].mean()\n",
    "    precision_cv = cv['test_precision'].mean()\n",
    "    recall_cv = cv['test_recall'].mean()\n",
    "    f1_cv = cv['test_f1'].mean()\n",
    "    loss_cv = cv['test_loss'].mean()\n",
    "    \n",
    "    end = time.time()  #note the end time \n",
    "    duration = end - start  # calculate the total duration\n",
    "\n",
    "    return f1, accuracy, precision, recall, loss, f1_cv, accuracy_cv, precision_cv, recall_cv, loss_cv, duration"
   ]
  },
  {
   "cell_type": "code",
   "execution_count": 48,
   "metadata": {
    "execution": {
     "iopub.execute_input": "2022-03-09T07:29:28.655057Z",
     "iopub.status.busy": "2022-03-09T07:29:28.654800Z"
    }
   },
   "outputs": [],
   "source": [
    "lr = LogisticRegression(random_state = RS)\n",
    "gnb = GaussianNB()\n",
    "knn = KNeighborsClassifier()\n",
    "svm = SVC(random_state = RS)\n",
    "dT_gini = DecisionTreeClassifier(random_state = RS)\n",
    "dT_entropy = DecisionTreeClassifier(random_state = RS)\n",
    "bgcl = BaggingClassifier(n_estimators=100,random_state = RS)\n",
    "abcl = AdaBoostClassifier(n_estimators=100, random_state = RS)\n",
    "gbcl = GradientBoostingClassifier(n_estimators = 100,random_state = RS)\n",
    "rfcl = RandomForestClassifier(n_estimators = 100, random_state = RS)\n",
    "xgbcl = XGBClassifier(n_estimators = 100, random_state = RS, eval_metric = 'logloss')\n",
    "\n",
    "result = {}\n",
    "\n",
    "for model,name in zip([lr, gnb, knn, svm, dT_gini, dT_entropy, bgcl, abcl, gbcl, rfcl, xgbcl],\n",
    "                     ['Logistic Regression', 'Gaussian NB', 'KNN', 'SVC', 'Decision Tree(gini)',\n",
    "                     'Decision Tree(entropy)', 'Bagging Classifier', 'Adaptive Boosting', \n",
    "                      'Gradient Boosting', 'Random Forest Classifier', 'XGB Classifier']):\n",
    "    result[name] = fit_models(model,X_train_upsampled, X_validation_sel, y_train_upsampled, y_validation_1)"
   ]
  },
  {
   "cell_type": "code",
   "execution_count": 49,
   "metadata": {
    "scrolled": true
   },
   "outputs": [
    {
     "data": {
      "text/html": [
       "<div>\n",
       "<style scoped>\n",
       "    .dataframe tbody tr th:only-of-type {\n",
       "        vertical-align: middle;\n",
       "    }\n",
       "\n",
       "    .dataframe tbody tr th {\n",
       "        vertical-align: top;\n",
       "    }\n",
       "\n",
       "    .dataframe thead th {\n",
       "        text-align: right;\n",
       "    }\n",
       "</style>\n",
       "<table border=\"1\" class=\"dataframe\">\n",
       "  <thead>\n",
       "    <tr style=\"text-align: right;\">\n",
       "      <th></th>\n",
       "      <th>F1-SCORE</th>\n",
       "      <th>ACCURACY</th>\n",
       "      <th>PRECISION</th>\n",
       "      <th>RECALL</th>\n",
       "      <th>LOG LOSS</th>\n",
       "      <th>F1_SCORE(CV)</th>\n",
       "      <th>ACCURACY(CV)</th>\n",
       "      <th>PRECISION(CV)</th>\n",
       "      <th>RECALL(CV)</th>\n",
       "      <th>LOG LOSS(CV)</th>\n",
       "      <th>DURATION</th>\n",
       "    </tr>\n",
       "    <tr>\n",
       "      <th>Model</th>\n",
       "      <th></th>\n",
       "      <th></th>\n",
       "      <th></th>\n",
       "      <th></th>\n",
       "      <th></th>\n",
       "      <th></th>\n",
       "      <th></th>\n",
       "      <th></th>\n",
       "      <th></th>\n",
       "      <th></th>\n",
       "      <th></th>\n",
       "    </tr>\n",
       "  </thead>\n",
       "  <tbody>\n",
       "    <tr>\n",
       "      <th>Logistic Regression</th>\n",
       "      <td>0.198312</td>\n",
       "      <td>0.800000</td>\n",
       "      <td>0.114634</td>\n",
       "      <td>0.734375</td>\n",
       "      <td>6.907908</td>\n",
       "      <td>0.794936</td>\n",
       "      <td>0.794607</td>\n",
       "      <td>0.793797</td>\n",
       "      <td>0.796380</td>\n",
       "      <td>7.094103</td>\n",
       "      <td>0.222435</td>\n",
       "    </tr>\n",
       "    <tr>\n",
       "      <th>Gaussian NB</th>\n",
       "      <td>0.222222</td>\n",
       "      <td>0.819474</td>\n",
       "      <td>0.129973</td>\n",
       "      <td>0.765625</td>\n",
       "      <td>6.235296</td>\n",
       "      <td>0.807237</td>\n",
       "      <td>0.807750</td>\n",
       "      <td>0.809471</td>\n",
       "      <td>0.805227</td>\n",
       "      <td>6.640167</td>\n",
       "      <td>0.093966</td>\n",
       "    </tr>\n",
       "    <tr>\n",
       "      <th>KNN</th>\n",
       "      <td>0.374468</td>\n",
       "      <td>0.922632</td>\n",
       "      <td>0.257310</td>\n",
       "      <td>0.687500</td>\n",
       "      <td>2.672264</td>\n",
       "      <td>0.960782</td>\n",
       "      <td>0.959480</td>\n",
       "      <td>0.931426</td>\n",
       "      <td>0.992101</td>\n",
       "      <td>1.399533</td>\n",
       "      <td>0.625015</td>\n",
       "    </tr>\n",
       "    <tr>\n",
       "      <th>SVC</th>\n",
       "      <td>0.401544</td>\n",
       "      <td>0.918421</td>\n",
       "      <td>0.266667</td>\n",
       "      <td>0.812500</td>\n",
       "      <td>2.817697</td>\n",
       "      <td>0.935036</td>\n",
       "      <td>0.933601</td>\n",
       "      <td>0.915279</td>\n",
       "      <td>0.955732</td>\n",
       "      <td>2.293387</td>\n",
       "      <td>27.082169</td>\n",
       "    </tr>\n",
       "    <tr>\n",
       "      <th>Decision Tree(gini)</th>\n",
       "      <td>0.564706</td>\n",
       "      <td>0.961053</td>\n",
       "      <td>0.452830</td>\n",
       "      <td>0.750000</td>\n",
       "      <td>1.345219</td>\n",
       "      <td>0.971709</td>\n",
       "      <td>0.971671</td>\n",
       "      <td>0.968932</td>\n",
       "      <td>0.974665</td>\n",
       "      <td>0.978478</td>\n",
       "      <td>0.516133</td>\n",
       "    </tr>\n",
       "    <tr>\n",
       "      <th>Decision Tree(entropy)</th>\n",
       "      <td>0.564706</td>\n",
       "      <td>0.961053</td>\n",
       "      <td>0.452830</td>\n",
       "      <td>0.750000</td>\n",
       "      <td>1.345219</td>\n",
       "      <td>0.971709</td>\n",
       "      <td>0.971671</td>\n",
       "      <td>0.968932</td>\n",
       "      <td>0.974665</td>\n",
       "      <td>0.978478</td>\n",
       "      <td>0.499841</td>\n",
       "    </tr>\n",
       "    <tr>\n",
       "      <th>Bagging Classifier</th>\n",
       "      <td>0.593548</td>\n",
       "      <td>0.966842</td>\n",
       "      <td>0.505495</td>\n",
       "      <td>0.718750</td>\n",
       "      <td>1.145252</td>\n",
       "      <td>0.980403</td>\n",
       "      <td>0.980319</td>\n",
       "      <td>0.976136</td>\n",
       "      <td>0.984745</td>\n",
       "      <td>0.679759</td>\n",
       "      <td>28.543887</td>\n",
       "    </tr>\n",
       "    <tr>\n",
       "      <th>Adaptive Boosting</th>\n",
       "      <td>0.444444</td>\n",
       "      <td>0.931579</td>\n",
       "      <td>0.305882</td>\n",
       "      <td>0.812500</td>\n",
       "      <td>2.363229</td>\n",
       "      <td>0.928197</td>\n",
       "      <td>0.927541</td>\n",
       "      <td>0.920160</td>\n",
       "      <td>0.936529</td>\n",
       "      <td>2.502664</td>\n",
       "      <td>8.502531</td>\n",
       "    </tr>\n",
       "    <tr>\n",
       "      <th>Gradient Boosting</th>\n",
       "      <td>0.492891</td>\n",
       "      <td>0.943684</td>\n",
       "      <td>0.353741</td>\n",
       "      <td>0.812500</td>\n",
       "      <td>1.945118</td>\n",
       "      <td>0.952646</td>\n",
       "      <td>0.951853</td>\n",
       "      <td>0.937570</td>\n",
       "      <td>0.968265</td>\n",
       "      <td>1.662964</td>\n",
       "      <td>16.416760</td>\n",
       "    </tr>\n",
       "    <tr>\n",
       "      <th>Random Forest Classifier</th>\n",
       "      <td>0.584416</td>\n",
       "      <td>0.966316</td>\n",
       "      <td>0.500000</td>\n",
       "      <td>0.703125</td>\n",
       "      <td>1.163430</td>\n",
       "      <td>0.981782</td>\n",
       "      <td>0.981681</td>\n",
       "      <td>0.976709</td>\n",
       "      <td>0.986925</td>\n",
       "      <td>0.632737</td>\n",
       "      <td>14.860924</td>\n",
       "    </tr>\n",
       "    <tr>\n",
       "      <th>XGB Classifier</th>\n",
       "      <td>0.657718</td>\n",
       "      <td>0.973158</td>\n",
       "      <td>0.576471</td>\n",
       "      <td>0.765625</td>\n",
       "      <td>0.927109</td>\n",
       "      <td>0.985547</td>\n",
       "      <td>0.985495</td>\n",
       "      <td>0.981372</td>\n",
       "      <td>0.989785</td>\n",
       "      <td>0.500991</td>\n",
       "      <td>4.907114</td>\n",
       "    </tr>\n",
       "  </tbody>\n",
       "</table>\n",
       "</div>"
      ],
      "text/plain": [
       "                          F1-SCORE  ACCURACY  PRECISION    RECALL  LOG LOSS  \\\n",
       "Model                                                                         \n",
       "Logistic Regression       0.198312  0.800000   0.114634  0.734375  6.907908   \n",
       "Gaussian NB               0.222222  0.819474   0.129973  0.765625  6.235296   \n",
       "KNN                       0.374468  0.922632   0.257310  0.687500  2.672264   \n",
       "SVC                       0.401544  0.918421   0.266667  0.812500  2.817697   \n",
       "Decision Tree(gini)       0.564706  0.961053   0.452830  0.750000  1.345219   \n",
       "Decision Tree(entropy)    0.564706  0.961053   0.452830  0.750000  1.345219   \n",
       "Bagging Classifier        0.593548  0.966842   0.505495  0.718750  1.145252   \n",
       "Adaptive Boosting         0.444444  0.931579   0.305882  0.812500  2.363229   \n",
       "Gradient Boosting         0.492891  0.943684   0.353741  0.812500  1.945118   \n",
       "Random Forest Classifier  0.584416  0.966316   0.500000  0.703125  1.163430   \n",
       "XGB Classifier            0.657718  0.973158   0.576471  0.765625  0.927109   \n",
       "\n",
       "                          F1_SCORE(CV)  ACCURACY(CV)  PRECISION(CV)  \\\n",
       "Model                                                                 \n",
       "Logistic Regression           0.794936      0.794607       0.793797   \n",
       "Gaussian NB                   0.807237      0.807750       0.809471   \n",
       "KNN                           0.960782      0.959480       0.931426   \n",
       "SVC                           0.935036      0.933601       0.915279   \n",
       "Decision Tree(gini)           0.971709      0.971671       0.968932   \n",
       "Decision Tree(entropy)        0.971709      0.971671       0.968932   \n",
       "Bagging Classifier            0.980403      0.980319       0.976136   \n",
       "Adaptive Boosting             0.928197      0.927541       0.920160   \n",
       "Gradient Boosting             0.952646      0.951853       0.937570   \n",
       "Random Forest Classifier      0.981782      0.981681       0.976709   \n",
       "XGB Classifier                0.985547      0.985495       0.981372   \n",
       "\n",
       "                          RECALL(CV)  LOG LOSS(CV)   DURATION  \n",
       "Model                                                          \n",
       "Logistic Regression         0.796380      7.094103   0.222435  \n",
       "Gaussian NB                 0.805227      6.640167   0.093966  \n",
       "KNN                         0.992101      1.399533   0.625015  \n",
       "SVC                         0.955732      2.293387  27.082169  \n",
       "Decision Tree(gini)         0.974665      0.978478   0.516133  \n",
       "Decision Tree(entropy)      0.974665      0.978478   0.499841  \n",
       "Bagging Classifier          0.984745      0.679759  28.543887  \n",
       "Adaptive Boosting           0.936529      2.502664   8.502531  \n",
       "Gradient Boosting           0.968265      1.662964  16.416760  \n",
       "Random Forest Classifier    0.986925      0.632737  14.860924  \n",
       "XGB Classifier              0.989785      0.500991   4.907114  "
      ]
     },
     "execution_count": 49,
     "metadata": {},
     "output_type": "execute_result"
    }
   ],
   "source": [
    "result1 = pd.DataFrame(np.array(list(result.values())),    # make a dataframe out of the metrics from result dictionary \n",
    "                       columns= ['F1-SCORE', 'ACCURACY', 'PRECISION', 'RECALL', 'LOG LOSS', 'F1_SCORE(CV)', 'ACCURACY(CV)', \n",
    "                                'PRECISION(CV)', 'RECALL(CV)',  'LOG LOSS(CV)', 'DURATION'], \n",
    "                       index= result.keys())   # use the model names as index\n",
    "\n",
    "result1.index.name = 'Model'   # name the index of the result1 dataframe as 'Model'\n",
    "\n",
    "result1 "
   ]
  },
  {
   "cell_type": "markdown",
   "metadata": {},
   "source": [
    "XGB Classifier and Random forest classifiers outperforms the other models. we have to choose one between them."
   ]
  },
  {
   "cell_type": "markdown",
   "metadata": {},
   "source": [
    "### Model evaluation function"
   ]
  },
  {
   "cell_type": "code",
   "execution_count": 50,
   "metadata": {},
   "outputs": [],
   "source": [
    "from sklearn.metrics import precision_recall_curve\n",
    "from sklearn.metrics import f1_score\n",
    "from sklearn.metrics import auc\n",
    "from sklearn.metrics import log_loss\n",
    "from sklearn.metrics import precision_recall_curve, roc_auc_score, auc, roc_curve\n",
    "\n",
    "def evaluation(clf, X, y):\n",
    "    pred = clf.predict(X)\n",
    "    y_predict_proba = clf.predict_proba(X)[:, 1]\n",
    "    \n",
    "    precision, recall, thresholds = precision_recall_curve(y, y_predict_proba)\n",
    "    fpr, tpr, thresholds = roc_curve(y, y_predict_proba)\n",
    "    f1 = f1_score(y, pred)\n",
    "    loss = log_loss(y, pred)\n",
    "    \n",
    "    return{\n",
    "        'ROC AUC': auc(fpr, tpr), # Alternatively: roc_auc_score(y, y_predict_proba)\n",
    "        'PRECISION-RECALL AUC': auc(recall, precision), # Alternatively (with slight difference): average_precision_score(y, y_predict_proba)\n",
    "        'F1-SCORE': f1,\n",
    "        'LOSS': loss\n",
    "    }"
   ]
  },
  {
   "cell_type": "markdown",
   "metadata": {},
   "source": [
    "## RANDOM FOREST CLASSIFIER"
   ]
  },
  {
   "cell_type": "code",
   "execution_count": 51,
   "metadata": {},
   "outputs": [
    {
     "data": {
      "text/plain": [
       "1.0"
      ]
     },
     "execution_count": 51,
     "metadata": {},
     "output_type": "execute_result"
    }
   ],
   "source": [
    "rfcl.score(X_train_upsampled, y_train_upsampled)"
   ]
  },
  {
   "cell_type": "markdown",
   "metadata": {},
   "source": [
    "***Hyperparameter tuning***"
   ]
  },
  {
   "cell_type": "code",
   "execution_count": 52,
   "metadata": {},
   "outputs": [],
   "source": [
    "params={'bootstrap': [True, False],\n",
    "        'max_depth': [10, 20, 30, 40, 50, 60, 70, 80, 90, 100, None],\n",
    "        'max_features': ['auto', 'sqrt'],\n",
    "        'min_samples_leaf': [1, 2, 4],\n",
    "        'min_samples_split': [2, 5, 10],\n",
    "        'n_estimators': [200, 400, 600, 800, 1000]}"
   ]
  },
  {
   "cell_type": "code",
   "execution_count": 53,
   "metadata": {},
   "outputs": [
    {
     "data": {
      "text/plain": [
       "RandomizedSearchCV(cv=StratifiedKFold(n_splits=5, random_state=42, shuffle=True),\n",
       "                   estimator=RandomForestClassifier(), n_iter=100, n_jobs=-1,\n",
       "                   param_distributions={'bootstrap': [True, False],\n",
       "                                        'max_depth': [10, 20, 30, 40, 50, 60,\n",
       "                                                      70, 80, 90, 100, None],\n",
       "                                        'max_features': ['auto', 'sqrt'],\n",
       "                                        'min_samples_leaf': [1, 2, 4],\n",
       "                                        'min_samples_split': [2, 5, 10],\n",
       "                                        'n_estimators': [200, 400, 600, 800,\n",
       "                                                         1000]})"
      ]
     },
     "execution_count": 53,
     "metadata": {},
     "output_type": "execute_result"
    }
   ],
   "source": [
    "ran_clf_hp = RandomForestClassifier()\n",
    "\n",
    "grd_rfc = RandomizedSearchCV(estimator = ran_clf_hp, param_distributions = params, n_iter = 100, cv=skf, n_jobs = -1)\n",
    "grd_rfc.fit(X_train_upsampled, y_train_upsampled)"
   ]
  },
  {
   "cell_type": "code",
   "execution_count": 54,
   "metadata": {},
   "outputs": [
    {
     "data": {
      "text/plain": [
       "{'n_estimators': 1000,\n",
       " 'min_samples_split': 2,\n",
       " 'min_samples_leaf': 1,\n",
       " 'max_features': 'sqrt',\n",
       " 'max_depth': 20,\n",
       " 'bootstrap': False}"
      ]
     },
     "execution_count": 54,
     "metadata": {},
     "output_type": "execute_result"
    }
   ],
   "source": [
    "grd_rfc.best_params_"
   ]
  },
  {
   "cell_type": "code",
   "execution_count": 55,
   "metadata": {},
   "outputs": [
    {
     "data": {
      "text/plain": [
       "RandomForestClassifier(bootstrap=False, max_depth=20, max_features='sqrt',\n",
       "                       n_estimators=1000)"
      ]
     },
     "execution_count": 55,
     "metadata": {},
     "output_type": "execute_result"
    }
   ],
   "source": [
    "ran_clf_hp = RandomForestClassifier(**grd_rfc.best_params_)\n",
    "ran_clf_hp.fit(X_train_upsampled, y_train_upsampled)"
   ]
  },
  {
   "cell_type": "markdown",
   "metadata": {},
   "source": [
    "### PREDICTION ON VALIDATION DATA AFTER HPT"
   ]
  },
  {
   "cell_type": "code",
   "execution_count": 56,
   "metadata": {
    "scrolled": true
   },
   "outputs": [
    {
     "data": {
      "text/html": [
       "<div>\n",
       "<style scoped>\n",
       "    .dataframe tbody tr th:only-of-type {\n",
       "        vertical-align: middle;\n",
       "    }\n",
       "\n",
       "    .dataframe tbody tr th {\n",
       "        vertical-align: top;\n",
       "    }\n",
       "\n",
       "    .dataframe thead th {\n",
       "        text-align: right;\n",
       "    }\n",
       "</style>\n",
       "<table border=\"1\" class=\"dataframe\">\n",
       "  <thead>\n",
       "    <tr style=\"text-align: right;\">\n",
       "      <th></th>\n",
       "      <th>precision</th>\n",
       "      <th>recall</th>\n",
       "      <th>f1-score</th>\n",
       "      <th>support</th>\n",
       "    </tr>\n",
       "  </thead>\n",
       "  <tbody>\n",
       "    <tr>\n",
       "      <th>0</th>\n",
       "      <td>0.989029</td>\n",
       "      <td>0.982026</td>\n",
       "      <td>0.985515</td>\n",
       "      <td>1836.000000</td>\n",
       "    </tr>\n",
       "    <tr>\n",
       "      <th>1</th>\n",
       "      <td>0.571429</td>\n",
       "      <td>0.687500</td>\n",
       "      <td>0.624113</td>\n",
       "      <td>64.000000</td>\n",
       "    </tr>\n",
       "    <tr>\n",
       "      <th>accuracy</th>\n",
       "      <td>0.972105</td>\n",
       "      <td>0.972105</td>\n",
       "      <td>0.972105</td>\n",
       "      <td>0.972105</td>\n",
       "    </tr>\n",
       "    <tr>\n",
       "      <th>macro avg</th>\n",
       "      <td>0.780229</td>\n",
       "      <td>0.834763</td>\n",
       "      <td>0.804814</td>\n",
       "      <td>1900.000000</td>\n",
       "    </tr>\n",
       "    <tr>\n",
       "      <th>weighted avg</th>\n",
       "      <td>0.974963</td>\n",
       "      <td>0.972105</td>\n",
       "      <td>0.973342</td>\n",
       "      <td>1900.000000</td>\n",
       "    </tr>\n",
       "  </tbody>\n",
       "</table>\n",
       "</div>"
      ],
      "text/plain": [
       "              precision    recall  f1-score      support\n",
       "0              0.989029  0.982026  0.985515  1836.000000\n",
       "1              0.571429  0.687500  0.624113    64.000000\n",
       "accuracy       0.972105  0.972105  0.972105     0.972105\n",
       "macro avg      0.780229  0.834763  0.804814  1900.000000\n",
       "weighted avg   0.974963  0.972105  0.973342  1900.000000"
      ]
     },
     "execution_count": 56,
     "metadata": {},
     "output_type": "execute_result"
    }
   ],
   "source": [
    "pred = ran_clf_hp.predict(X_validation_sel)\n",
    "report = pd.DataFrame(classification_report(y_validation_1, pred, output_dict=True)).T\n",
    "report"
   ]
  },
  {
   "cell_type": "markdown",
   "metadata": {},
   "source": [
    "### Model evaluation"
   ]
  },
  {
   "cell_type": "code",
   "execution_count": 57,
   "metadata": {},
   "outputs": [
    {
     "data": {
      "text/plain": [
       "{'ROC AUC': 0.961835341775599,\n",
       " 'PRECISION-RECALL AUC': 0.7160547904150014,\n",
       " 'F1-SCORE': 0.624113475177305,\n",
       " 'LOSS': 0.9634639661291916}"
      ]
     },
     "execution_count": 57,
     "metadata": {},
     "output_type": "execute_result"
    }
   ],
   "source": [
    "evaluation(ran_clf_hp, X_validation_sel, y_validation_1)"
   ]
  },
  {
   "cell_type": "markdown",
   "metadata": {},
   "source": [
    "### PREDICTION ON TEST DATA"
   ]
  },
  {
   "cell_type": "code",
   "execution_count": 58,
   "metadata": {},
   "outputs": [
    {
     "data": {
      "text/plain": [
       "((500, 6), (500,))"
      ]
     },
     "execution_count": 58,
     "metadata": {},
     "output_type": "execute_result"
    }
   ],
   "source": [
    "X_test.shape, y_test.shape"
   ]
  },
  {
   "cell_type": "code",
   "execution_count": 59,
   "metadata": {},
   "outputs": [],
   "source": [
    "X_test_1 = X_test.copy()\n",
    "y_test_1 = y_test.copy()"
   ]
  },
  {
   "cell_type": "markdown",
   "metadata": {},
   "source": [
    "***Ordinal encoding***"
   ]
  },
  {
   "cell_type": "code",
   "execution_count": 60,
   "metadata": {},
   "outputs": [],
   "source": [
    "X_test_1['Type'] = ordinal_encoder.transform(X_test_1[['Type']])"
   ]
  },
  {
   "cell_type": "markdown",
   "metadata": {},
   "source": [
    "***Applying Log Transformations***"
   ]
  },
  {
   "cell_type": "code",
   "execution_count": 61,
   "metadata": {},
   "outputs": [],
   "source": [
    "X_test_1[to_transform] = transformer.transform(X_test_1[to_transform])"
   ]
  },
  {
   "cell_type": "markdown",
   "metadata": {},
   "source": [
    "***Scaling the data***"
   ]
  },
  {
   "cell_type": "code",
   "execution_count": 62,
   "metadata": {},
   "outputs": [],
   "source": [
    "X_test_1[to_scale] = scaler.transform(X_test_1[to_scale])"
   ]
  },
  {
   "cell_type": "markdown",
   "metadata": {},
   "source": [
    "***Feature selection by Recursive Feature Elimination with cross-validation***"
   ]
  },
  {
   "cell_type": "code",
   "execution_count": 63,
   "metadata": {},
   "outputs": [],
   "source": [
    "X_test_sel = pd.DataFrame(sel.transform(X_test_1), columns = features)"
   ]
  },
  {
   "cell_type": "markdown",
   "metadata": {},
   "source": [
    "### Prediction made by the vanilla model"
   ]
  },
  {
   "cell_type": "code",
   "execution_count": 64,
   "metadata": {},
   "outputs": [
    {
     "data": {
      "text/html": [
       "<div>\n",
       "<style scoped>\n",
       "    .dataframe tbody tr th:only-of-type {\n",
       "        vertical-align: middle;\n",
       "    }\n",
       "\n",
       "    .dataframe tbody tr th {\n",
       "        vertical-align: top;\n",
       "    }\n",
       "\n",
       "    .dataframe thead th {\n",
       "        text-align: right;\n",
       "    }\n",
       "</style>\n",
       "<table border=\"1\" class=\"dataframe\">\n",
       "  <thead>\n",
       "    <tr style=\"text-align: right;\">\n",
       "      <th></th>\n",
       "      <th>precision</th>\n",
       "      <th>recall</th>\n",
       "      <th>f1-score</th>\n",
       "      <th>support</th>\n",
       "    </tr>\n",
       "  </thead>\n",
       "  <tbody>\n",
       "    <tr>\n",
       "      <th>0</th>\n",
       "      <td>0.995763</td>\n",
       "      <td>0.973085</td>\n",
       "      <td>0.984293</td>\n",
       "      <td>483.00</td>\n",
       "    </tr>\n",
       "    <tr>\n",
       "      <th>1</th>\n",
       "      <td>0.535714</td>\n",
       "      <td>0.882353</td>\n",
       "      <td>0.666667</td>\n",
       "      <td>17.00</td>\n",
       "    </tr>\n",
       "    <tr>\n",
       "      <th>accuracy</th>\n",
       "      <td>0.970000</td>\n",
       "      <td>0.970000</td>\n",
       "      <td>0.970000</td>\n",
       "      <td>0.97</td>\n",
       "    </tr>\n",
       "    <tr>\n",
       "      <th>macro avg</th>\n",
       "      <td>0.765738</td>\n",
       "      <td>0.927719</td>\n",
       "      <td>0.825480</td>\n",
       "      <td>500.00</td>\n",
       "    </tr>\n",
       "    <tr>\n",
       "      <th>weighted avg</th>\n",
       "      <td>0.980121</td>\n",
       "      <td>0.970000</td>\n",
       "      <td>0.973494</td>\n",
       "      <td>500.00</td>\n",
       "    </tr>\n",
       "  </tbody>\n",
       "</table>\n",
       "</div>"
      ],
      "text/plain": [
       "              precision    recall  f1-score  support\n",
       "0              0.995763  0.973085  0.984293   483.00\n",
       "1              0.535714  0.882353  0.666667    17.00\n",
       "accuracy       0.970000  0.970000  0.970000     0.97\n",
       "macro avg      0.765738  0.927719  0.825480   500.00\n",
       "weighted avg   0.980121  0.970000  0.973494   500.00"
      ]
     },
     "execution_count": 64,
     "metadata": {},
     "output_type": "execute_result"
    }
   ],
   "source": [
    "pred = rfcl.predict(X_test_sel)\n",
    "report = pd.DataFrame(classification_report(y_test_1, pred, output_dict=True)).T\n",
    "report"
   ]
  },
  {
   "cell_type": "markdown",
   "metadata": {},
   "source": [
    "### Model evaluation"
   ]
  },
  {
   "cell_type": "code",
   "execution_count": 65,
   "metadata": {},
   "outputs": [
    {
     "data": {
      "text/plain": [
       "{'ROC AUC': 0.938740713676775,\n",
       " 'PRECISION-RECALL AUC': 0.716201130881889,\n",
       " 'F1-SCORE': 0.6666666666666667,\n",
       " 'LOSS': 1.0361840813805063}"
      ]
     },
     "execution_count": 65,
     "metadata": {},
     "output_type": "execute_result"
    }
   ],
   "source": [
    "evaluation(rfcl, X_test_sel, y_test_1)"
   ]
  },
  {
   "cell_type": "markdown",
   "metadata": {},
   "source": [
    "### Prediction made by hyperparameter tuned model"
   ]
  },
  {
   "cell_type": "code",
   "execution_count": 66,
   "metadata": {},
   "outputs": [
    {
     "data": {
      "text/html": [
       "<div>\n",
       "<style scoped>\n",
       "    .dataframe tbody tr th:only-of-type {\n",
       "        vertical-align: middle;\n",
       "    }\n",
       "\n",
       "    .dataframe tbody tr th {\n",
       "        vertical-align: top;\n",
       "    }\n",
       "\n",
       "    .dataframe thead th {\n",
       "        text-align: right;\n",
       "    }\n",
       "</style>\n",
       "<table border=\"1\" class=\"dataframe\">\n",
       "  <thead>\n",
       "    <tr style=\"text-align: right;\">\n",
       "      <th></th>\n",
       "      <th>precision</th>\n",
       "      <th>recall</th>\n",
       "      <th>f1-score</th>\n",
       "      <th>support</th>\n",
       "    </tr>\n",
       "  </thead>\n",
       "  <tbody>\n",
       "    <tr>\n",
       "      <th>0</th>\n",
       "      <td>0.995772</td>\n",
       "      <td>0.975155</td>\n",
       "      <td>0.985356</td>\n",
       "      <td>483.000</td>\n",
       "    </tr>\n",
       "    <tr>\n",
       "      <th>1</th>\n",
       "      <td>0.555556</td>\n",
       "      <td>0.882353</td>\n",
       "      <td>0.681818</td>\n",
       "      <td>17.000</td>\n",
       "    </tr>\n",
       "    <tr>\n",
       "      <th>accuracy</th>\n",
       "      <td>0.972000</td>\n",
       "      <td>0.972000</td>\n",
       "      <td>0.972000</td>\n",
       "      <td>0.972</td>\n",
       "    </tr>\n",
       "    <tr>\n",
       "      <th>macro avg</th>\n",
       "      <td>0.775664</td>\n",
       "      <td>0.928754</td>\n",
       "      <td>0.833587</td>\n",
       "      <td>500.000</td>\n",
       "    </tr>\n",
       "    <tr>\n",
       "      <th>weighted avg</th>\n",
       "      <td>0.980804</td>\n",
       "      <td>0.972000</td>\n",
       "      <td>0.975035</td>\n",
       "      <td>500.000</td>\n",
       "    </tr>\n",
       "  </tbody>\n",
       "</table>\n",
       "</div>"
      ],
      "text/plain": [
       "              precision    recall  f1-score  support\n",
       "0              0.995772  0.975155  0.985356  483.000\n",
       "1              0.555556  0.882353  0.681818   17.000\n",
       "accuracy       0.972000  0.972000  0.972000    0.972\n",
       "macro avg      0.775664  0.928754  0.833587  500.000\n",
       "weighted avg   0.980804  0.972000  0.975035  500.000"
      ]
     },
     "execution_count": 66,
     "metadata": {},
     "output_type": "execute_result"
    }
   ],
   "source": [
    "pred = ran_clf_hp.predict(X_test_sel)\n",
    "report = pd.DataFrame(classification_report(y_test_1, pred, output_dict=True)).T\n",
    "report"
   ]
  },
  {
   "cell_type": "markdown",
   "metadata": {},
   "source": [
    "### Model evaluation"
   ]
  },
  {
   "cell_type": "code",
   "execution_count": 67,
   "metadata": {},
   "outputs": [
    {
     "data": {
      "text/plain": [
       "{'ROC AUC': 0.9615150407989282,\n",
       " 'PRECISION-RECALL AUC': 0.6943608892965675,\n",
       " 'F1-SCORE': 0.6818181818181819,\n",
       " 'LOSS': 0.9671049293958246}"
      ]
     },
     "execution_count": 67,
     "metadata": {},
     "output_type": "execute_result"
    }
   ],
   "source": [
    "evaluation(ran_clf_hp, X_test_sel, y_test_1)"
   ]
  },
  {
   "cell_type": "markdown",
   "metadata": {},
   "source": [
    "- We can see that Hyperparameter tuning does really help our model to learn more."
   ]
  },
  {
   "cell_type": "markdown",
   "metadata": {},
   "source": [
    "## RANDOM FOREST CLASSIFIER - PIPELINE"
   ]
  },
  {
   "cell_type": "code",
   "execution_count": 68,
   "metadata": {},
   "outputs": [],
   "source": [
    "from sklearn.compose import ColumnTransformer\n",
    "from sklearn.pipeline import Pipeline\n",
    "\n",
    "my_cols = ['Air_temperature', 'Process_temperature', 'Rotational_speed', 'Torque', 'Tool_wear']\n",
    "\n",
    "cols_to_order = Pipeline(steps=[\n",
    "    ('ordinal', OrdinalEncoder(categories = [ord]))\n",
    "])\n",
    "\n",
    "cols_to_log_transform = Pipeline(steps=[\n",
    "    ('log_transform', FunctionTransformer(np.log1p))\n",
    "])\n",
    "\n",
    "cols_to_scale_transform = Pipeline(steps=[\n",
    "    ('scaler', StandardScaler())\n",
    "])\n",
    "\n",
    "preprocessor = ColumnTransformer(transformers = [\n",
    "    ('selector', 'passthrough', my_cols),\n",
    "    ('ordinal_cols', cols_to_order, discrete_feature),\n",
    "    ('skewed_cols', cols_to_log_transform, to_transform),\n",
    "    ('cols_to_scale', cols_to_scale_transform, to_scale)\n",
    "], remainder = 'drop')\n"
   ]
  },
  {
   "cell_type": "code",
   "execution_count": 69,
   "metadata": {},
   "outputs": [],
   "source": [
    "from imblearn.pipeline import make_pipeline\n",
    "\n",
    "clf = make_pipeline(preprocessor, \n",
    "                    SMOTE(random_state = 42),\n",
    "                    RandomForestClassifier())\n",
    "\n",
    "params=[\n",
    "        {'randomforestclassifier': [RandomForestClassifier()],\n",
    "          'randomforestclassifier__bootstrap': [True, False],\n",
    "          'randomforestclassifier__max_depth': [10, 20, 30, 40, 50, 60, 70, 80, 90, 100, None],\n",
    "          'randomforestclassifier__max_features': ['auto', 'sqrt'],\n",
    "          'randomforestclassifier__min_samples_leaf': [1, 2, 4],\n",
    "          'randomforestclassifier__min_samples_split': [2, 5, 10],\n",
    "          'randomforestclassifier__n_estimators': [200, 400, 600, 800, 1000]\n",
    "        }]\n",
    "\n",
    "ran_search = RandomizedSearchCV(estimator = clf, param_distributions = params, n_iter = 100, cv = skf, random_state=RS, n_jobs = -1)\n",
    "best_model = ran_search.fit(X_train, y_train)"
   ]
  },
  {
   "cell_type": "code",
   "execution_count": 70,
   "metadata": {},
   "outputs": [
    {
     "data": {
      "text/plain": [
       "{'randomforestclassifier__n_estimators': 600,\n",
       " 'randomforestclassifier__min_samples_split': 2,\n",
       " 'randomforestclassifier__min_samples_leaf': 1,\n",
       " 'randomforestclassifier__max_features': 'auto',\n",
       " 'randomforestclassifier__max_depth': 50,\n",
       " 'randomforestclassifier__bootstrap': False,\n",
       " 'randomforestclassifier': RandomForestClassifier(bootstrap=False, max_depth=50, n_estimators=600)}"
      ]
     },
     "execution_count": 70,
     "metadata": {},
     "output_type": "execute_result"
    }
   ],
   "source": [
    "best_model.best_params_"
   ]
  },
  {
   "cell_type": "markdown",
   "metadata": {},
   "source": [
    "### Prediction made by hyperparameter tuned model(PIPELINE) on test data"
   ]
  },
  {
   "cell_type": "code",
   "execution_count": 71,
   "metadata": {},
   "outputs": [
    {
     "data": {
      "text/html": [
       "<div>\n",
       "<style scoped>\n",
       "    .dataframe tbody tr th:only-of-type {\n",
       "        vertical-align: middle;\n",
       "    }\n",
       "\n",
       "    .dataframe tbody tr th {\n",
       "        vertical-align: top;\n",
       "    }\n",
       "\n",
       "    .dataframe thead th {\n",
       "        text-align: right;\n",
       "    }\n",
       "</style>\n",
       "<table border=\"1\" class=\"dataframe\">\n",
       "  <thead>\n",
       "    <tr style=\"text-align: right;\">\n",
       "      <th></th>\n",
       "      <th>precision</th>\n",
       "      <th>recall</th>\n",
       "      <th>f1-score</th>\n",
       "      <th>support</th>\n",
       "    </tr>\n",
       "  </thead>\n",
       "  <tbody>\n",
       "    <tr>\n",
       "      <th>0</th>\n",
       "      <td>0.993671</td>\n",
       "      <td>0.975155</td>\n",
       "      <td>0.984326</td>\n",
       "      <td>483.00</td>\n",
       "    </tr>\n",
       "    <tr>\n",
       "      <th>1</th>\n",
       "      <td>0.538462</td>\n",
       "      <td>0.823529</td>\n",
       "      <td>0.651163</td>\n",
       "      <td>17.00</td>\n",
       "    </tr>\n",
       "    <tr>\n",
       "      <th>accuracy</th>\n",
       "      <td>0.970000</td>\n",
       "      <td>0.970000</td>\n",
       "      <td>0.970000</td>\n",
       "      <td>0.97</td>\n",
       "    </tr>\n",
       "    <tr>\n",
       "      <th>macro avg</th>\n",
       "      <td>0.766066</td>\n",
       "      <td>0.899342</td>\n",
       "      <td>0.817744</td>\n",
       "      <td>500.00</td>\n",
       "    </tr>\n",
       "    <tr>\n",
       "      <th>weighted avg</th>\n",
       "      <td>0.978194</td>\n",
       "      <td>0.970000</td>\n",
       "      <td>0.972998</td>\n",
       "      <td>500.00</td>\n",
       "    </tr>\n",
       "  </tbody>\n",
       "</table>\n",
       "</div>"
      ],
      "text/plain": [
       "              precision    recall  f1-score  support\n",
       "0              0.993671  0.975155  0.984326   483.00\n",
       "1              0.538462  0.823529  0.651163    17.00\n",
       "accuracy       0.970000  0.970000  0.970000     0.97\n",
       "macro avg      0.766066  0.899342  0.817744   500.00\n",
       "weighted avg   0.978194  0.970000  0.972998   500.00"
      ]
     },
     "execution_count": 71,
     "metadata": {},
     "output_type": "execute_result"
    }
   ],
   "source": [
    "pred = best_model.predict(X_test)\n",
    "report = pd.DataFrame(classification_report(y_test, pred, output_dict=True)).T\n",
    "report"
   ]
  },
  {
   "cell_type": "markdown",
   "metadata": {},
   "source": [
    "### Model evaluation"
   ]
  },
  {
   "cell_type": "code",
   "execution_count": 72,
   "metadata": {},
   "outputs": [
    {
     "data": {
      "text/plain": [
       "{'ROC AUC': 0.9567653148215809,\n",
       " 'PRECISION-RECALL AUC': 0.7462612900807448,\n",
       " 'F1-SCORE': 0.6511627906976744,\n",
       " 'LOSS': 1.0361824821856458}"
      ]
     },
     "execution_count": 72,
     "metadata": {},
     "output_type": "execute_result"
    }
   ],
   "source": [
    "evaluation(best_model, X_test, y_test)"
   ]
  },
  {
   "cell_type": "markdown",
   "metadata": {},
   "source": [
    "## TRAINING OUR MODEL ON ENTIRE DATASET WITH THE CHOSEN MODEL AND HYPERPARAMETERS"
   ]
  },
  {
   "cell_type": "code",
   "execution_count": 73,
   "metadata": {},
   "outputs": [],
   "source": [
    "prod_clf = make_pipeline(preprocessor, \n",
    "                    SMOTE(random_state = 42),\n",
    "                    best_model.best_params_['randomforestclassifier'])\n",
    "\n",
    "prod_model = prod_clf.fit(X,Y)"
   ]
  },
  {
   "cell_type": "code",
   "execution_count": 74,
   "metadata": {},
   "outputs": [],
   "source": [
    "all_accuracies = cross_validate(estimator=prod_model, X = X, y = Y, cv=10, scoring = scorer, n_jobs = -1)"
   ]
  },
  {
   "cell_type": "code",
   "execution_count": 75,
   "metadata": {},
   "outputs": [
    {
     "data": {
      "text/plain": [
       "{'fit_time': array([39.78132701, 38.86623168, 38.219944  , 38.29452443, 38.80640364,\n",
       "        38.55147338, 39.48212123, 38.52188945, 38.96796274, 39.15131092]),\n",
       " 'score_time': array([0.09370804, 0.12595677, 0.17229748, 0.18881536, 0.12496996,\n",
       "        0.14059091, 0.09539557, 0.15621185, 0.10939145, 0.10929346]),\n",
       " 'test_accuracy': array([0.97 , 0.967, 0.939, 0.936, 0.95 , 0.946, 0.933, 0.954, 0.967,\n",
       "        0.978]),\n",
       " 'test_precision': array([0.55555556, 0.51111111, 0.30434783, 0.33695652, 0.39473684,\n",
       "        0.38095238, 0.18867925, 0.36363636, 0.51724138, 0.73076923]),\n",
       " 'test_recall': array([0.45454545, 0.67647059, 0.61764706, 0.91176471, 0.88235294,\n",
       "        0.94117647, 0.29411765, 0.47058824, 0.44117647, 0.55882353]),\n",
       " 'test_f1': array([0.5       , 0.58227848, 0.40776699, 0.49206349, 0.54545455,\n",
       "        0.54237288, 0.22988506, 0.41025641, 0.47619048, 0.63333333]),\n",
       " 'test_loss': array([1.03617289, 1.13979721, 2.10690374, 2.21053046, 1.7269756 ,\n",
       "        1.8651355 , 2.3141324 , 1.5888061 , 1.13979082, 0.75985868])}"
      ]
     },
     "execution_count": 75,
     "metadata": {},
     "output_type": "execute_result"
    }
   ],
   "source": [
    "all_accuracies"
   ]
  },
  {
   "cell_type": "markdown",
   "metadata": {},
   "source": [
    "## CHECKING WHETHER CV TEST ACCURACY IS NORMALLY DISTRIBUTED"
   ]
  },
  {
   "cell_type": "code",
   "execution_count": 76,
   "metadata": {},
   "outputs": [
    {
     "name": "stdout",
     "output_type": "stream",
     "text": [
      "stat = 0.93, p = 0.489526540040969848632812500000\n",
      "Normal distribution\n",
      "\n"
     ]
    }
   ],
   "source": [
    "DataToTest = all_accuracies['test_accuracy']\n",
    "stat, p = shapiro(DataToTest)\n",
    "print('stat = %.2f, p = %.30f' % (stat, p))\n",
    "\n",
    "if p > 0.05:\n",
    "    print('Normal distribution')\n",
    "    print()\n",
    "else:\n",
    "    print('Not a normal distribution')\n",
    "    print()"
   ]
  },
  {
   "cell_type": "markdown",
   "metadata": {},
   "source": [
    "## AVERAGE ACCURACY"
   ]
  },
  {
   "cell_type": "code",
   "execution_count": 77,
   "metadata": {
    "scrolled": true
   },
   "outputs": [
    {
     "name": "stdout",
     "output_type": "stream",
     "text": [
      "Average cv score:  0.954\n",
      "Standard deviation:  0.01496662954709575\n",
      "Accuracy of our model will range from 0.9240667409058084 to 0.9839332590941915 (WITH 95% CONFIDENCE-Emprical Rule) \n"
     ]
    }
   ],
   "source": [
    "avg_score = all_accuracies['test_accuracy'].mean()\n",
    "std = all_accuracies['test_accuracy'].std()\n",
    "std_2 = std * 2\n",
    "production_acc_min = avg_score - std_2\n",
    "production_acc_max = avg_score + std_2\n",
    "print(\"Average cv score: \", avg_score)\n",
    "print(\"Standard deviation: \", std)\n",
    "print(\"Accuracy of our model will range from {} to {} (WITH 95% CONFIDENCE-Emprical Rule) \".format(production_acc_min, production_acc_max))"
   ]
  },
  {
   "cell_type": "code",
   "execution_count": 78,
   "metadata": {},
   "outputs": [],
   "source": [
    "import pickle\n",
    "filename = 'machine_predictive_maintenance(random_forest).sav'\n",
    "pickle.dump(prod_model, open(filename, 'wb'))"
   ]
  }
 ],
 "metadata": {
  "kernelspec": {
   "display_name": "Python 3 (ipykernel)",
   "language": "python",
   "name": "python3"
  },
  "language_info": {
   "codemirror_mode": {
    "name": "ipython",
    "version": 3
   },
   "file_extension": ".py",
   "mimetype": "text/x-python",
   "name": "python",
   "nbconvert_exporter": "python",
   "pygments_lexer": "ipython3",
   "version": "3.9.7"
  }
 },
 "nbformat": 4,
 "nbformat_minor": 4
}
